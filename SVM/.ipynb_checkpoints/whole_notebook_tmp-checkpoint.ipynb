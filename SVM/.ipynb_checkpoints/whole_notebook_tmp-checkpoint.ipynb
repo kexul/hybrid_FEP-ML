{
 "cells": [
  {
   "cell_type": "markdown",
   "metadata": {},
   "source": [
    "# Correcting absolute hydration free energies using support vector machines"
   ]
  },
  {
   "cell_type": "markdown",
   "metadata": {
    "toc": true
   },
   "source": [
    "<h1>Table of Contents<span class=\"tocSkip\"></span></h1>\n",
    "<div class=\"toc\"><ul class=\"toc-item\"><li><span><a href=\"#Imports\" data-toc-modified-id=\"Imports-1\"><span class=\"toc-item-num\">1&nbsp;&nbsp;</span>Imports</a></span></li><li><span><a href=\"#Global-variables\" data-toc-modified-id=\"Global-variables-2\"><span class=\"toc-item-num\">2&nbsp;&nbsp;</span>Global variables</a></span><ul class=\"toc-item\"><li><span><a href=\"#Model-parameters\" data-toc-modified-id=\"Model-parameters-2.1\"><span class=\"toc-item-num\">2.1&nbsp;&nbsp;</span>Model parameters</a></span></li><li><span><a href=\"#Matplotlib-parameters\" data-toc-modified-id=\"Matplotlib-parameters-2.2\"><span class=\"toc-item-num\">2.2&nbsp;&nbsp;</span>Matplotlib parameters</a></span></li></ul></li><li><span><a href=\"#Path-variables\" data-toc-modified-id=\"Path-variables-3\"><span class=\"toc-item-num\">3&nbsp;&nbsp;</span>Path variables</a></span></li><li><span><a href=\"#Logger\" data-toc-modified-id=\"Logger-4\"><span class=\"toc-item-num\">4&nbsp;&nbsp;</span>Logger</a></span></li><li><span><a href=\"#Data-preparation\" data-toc-modified-id=\"Data-preparation-5\"><span class=\"toc-item-num\">5&nbsp;&nbsp;</span>Data preparation</a></span><ul class=\"toc-item\"><li><span><a href=\"#Load-data\" data-toc-modified-id=\"Load-data-5.1\"><span class=\"toc-item-num\">5.1&nbsp;&nbsp;</span>Load data</a></span></li><li><span><a href=\"#Cross-validation\" data-toc-modified-id=\"Cross-validation-5.2\"><span class=\"toc-item-num\">5.2&nbsp;&nbsp;</span>Cross validation</a></span></li></ul></li><li><span><a href=\"#Training\" data-toc-modified-id=\"Training-6\"><span class=\"toc-item-num\">6&nbsp;&nbsp;</span>Training</a></span><ul class=\"toc-item\"><li><span><a href=\"#Hyper-parameter-ranges\" data-toc-modified-id=\"Hyper-parameter-ranges-6.1\"><span class=\"toc-item-num\">6.1&nbsp;&nbsp;</span>Hyper-parameter ranges</a></span></li><li><span><a href=\"#SVR-model\" data-toc-modified-id=\"SVR-model-6.2\"><span class=\"toc-item-num\">6.2&nbsp;&nbsp;</span>SVR model</a></span></li><li><span><a href=\"#Training-function\" data-toc-modified-id=\"Training-function-6.3\"><span class=\"toc-item-num\">6.3&nbsp;&nbsp;</span>Training function</a></span></li><li><span><a href=\"#Perform-training-per-fold\" data-toc-modified-id=\"Perform-training-per-fold-6.4\"><span class=\"toc-item-num\">6.4&nbsp;&nbsp;</span>Perform training per fold</a></span></li><li><span><a href=\"#Convergence-plot\" data-toc-modified-id=\"Convergence-plot-6.5\"><span class=\"toc-item-num\">6.5&nbsp;&nbsp;</span>Convergence plot</a></span></li></ul></li><li><span><a href=\"#Popagation-of-errors\" data-toc-modified-id=\"Popagation-of-errors-7\"><span class=\"toc-item-num\">7&nbsp;&nbsp;</span>Popagation of errors</a></span><ul class=\"toc-item\"><li><span><a href=\"#Average-error\" data-toc-modified-id=\"Average-error-7.1\"><span class=\"toc-item-num\">7.1&nbsp;&nbsp;</span>Average error</a></span></li><li><span><a href=\"#Root-mean-square-error\" data-toc-modified-id=\"Root-mean-square-error-7.2\"><span class=\"toc-item-num\">7.2&nbsp;&nbsp;</span>Root mean square error</a></span></li><li><span><a href=\"#Kendall-$\\tau$\" data-toc-modified-id=\"Kendall-$\\tau$-7.3\"><span class=\"toc-item-num\">7.3&nbsp;&nbsp;</span>Kendall $\\tau$</a></span></li><li><span><a href=\"#Pearson-R\" data-toc-modified-id=\"Pearson-R-7.4\"><span class=\"toc-item-num\">7.4&nbsp;&nbsp;</span>Pearson R</a></span></li><li><span><a href=\"#Mean-absolute-error\" data-toc-modified-id=\"Mean-absolute-error-7.5\"><span class=\"toc-item-num\">7.5&nbsp;&nbsp;</span>Mean absolute error</a></span></li><li><span><a href=\"#Linear-combination\" data-toc-modified-id=\"Linear-combination-7.6\"><span class=\"toc-item-num\">7.6&nbsp;&nbsp;</span>Linear combination</a></span></li></ul></li><li><span><a href=\"#External-testing\" data-toc-modified-id=\"External-testing-8\"><span class=\"toc-item-num\">8&nbsp;&nbsp;</span>External testing</a></span><ul class=\"toc-item\"><li><span><a href=\"#Load-testing-data\" data-toc-modified-id=\"Load-testing-data-8.1\"><span class=\"toc-item-num\">8.1&nbsp;&nbsp;</span>Load testing data</a></span></li><li><span><a href=\"#Original-$\\Delta-G_{hydr}$\" data-toc-modified-id=\"Original-$\\Delta-G_{hydr}$-8.2\"><span class=\"toc-item-num\">8.2&nbsp;&nbsp;</span>Original $\\Delta G_{hydr}$</a></span></li><li><span><a href=\"#$\\Delta-G_{offset}$-prediction\" data-toc-modified-id=\"$\\Delta-G_{offset}$-prediction-8.3\"><span class=\"toc-item-num\">8.3&nbsp;&nbsp;</span>$\\Delta G_{offset}$ prediction</a></span></li><li><span><a href=\"#$\\Delta-G_{hydr}$-correction\" data-toc-modified-id=\"$\\Delta-G_{hydr}$-correction-8.4\"><span class=\"toc-item-num\">8.4&nbsp;&nbsp;</span>$\\Delta G_{hydr}$ correction</a></span></li></ul></li><li><span><a href=\"#Control\" data-toc-modified-id=\"Control-9\"><span class=\"toc-item-num\">9&nbsp;&nbsp;</span>Control</a></span></li><li><span><a href=\"#Removing-outlier\" data-toc-modified-id=\"Removing-outlier-10\"><span class=\"toc-item-num\">10&nbsp;&nbsp;</span>Removing outlier</a></span></li><li><span><a href=\"#Recreating-SAMPL4-Figure-1\" data-toc-modified-id=\"Recreating-SAMPL4-Figure-1-11\"><span class=\"toc-item-num\">11&nbsp;&nbsp;</span>Recreating SAMPL4 Figure 1</a></span></li></ul></div>"
   ]
  },
  {
   "cell_type": "markdown",
   "metadata": {},
   "source": [
    "## Imports"
   ]
  },
  {
   "cell_type": "code",
   "execution_count": 2,
   "metadata": {},
   "outputs": [
    {
     "name": "stderr",
     "output_type": "stream",
     "text": [
      "/home/jscheen/.local/lib/python3.6/site-packages/sklearn/externals/joblib/__init__.py:15: FutureWarning: sklearn.externals.joblib is deprecated in 0.21 and will be removed in 0.23. Please import this functionality directly from joblib, which can be installed with: pip install joblib. If this warning is raised when loading pickled models, you may need to re-serialize those models with scikit-learn 0.21+.\n",
      "  warnings.warn(msg, category=FutureWarning)\n",
      "/home/jscheen/.local/lib/python3.6/site-packages/sklearn/utils/deprecation.py:144: FutureWarning: The sklearn.metrics.scorer module is  deprecated in version 0.22 and will be removed in version 0.24. The corresponding classes / functions should instead be imported from sklearn.metrics. Anything that cannot be imported from sklearn.metrics is now part of the private API.\n",
      "  warnings.warn(message, FutureWarning)\n"
     ]
    }
   ],
   "source": [
    "# General:\n",
    "import pandas as pd\n",
    "import numpy as np\n",
    "from matplotlib import pyplot as plt\n",
    "import matplotlib.pylab as pylab\n",
    "from matplotlib.ticker import AutoMinorLocator, FormatStrFormatter\n",
    "import os\n",
    "import csv\n",
    "import time\n",
    "import shutil\n",
    "import logging\n",
    "import pickle\n",
    "import statistics\n",
    "from tqdm import tqdm_notebook as tqdm\n",
    "\n",
    "# SVM:\n",
    "from sklearn.svm import SVR\n",
    "from sklearn.model_selection import KFold\n",
    "from sklearn.metrics import mean_absolute_error\n",
    "\n",
    "# SciKit-Optimise:\n",
    "from skopt import gp_minimize, dump\n",
    "from skopt.space import Categorical\n",
    "from skopt.utils import use_named_args\n",
    "\n",
    "# Statistics:\n",
    "import scipy\n",
    "import itertools\n",
    "itertools.imap = lambda *args, **kwargs: list(map(*args, **kwargs))"
   ]
  },
  {
   "cell_type": "markdown",
   "metadata": {},
   "source": [
    "## Global variables"
   ]
  },
  {
   "cell_type": "markdown",
   "metadata": {},
   "source": [
    "### Model parameters"
   ]
  },
  {
   "cell_type": "code",
   "execution_count": 3,
   "metadata": {},
   "outputs": [],
   "source": [
    "# Global variables:\n",
    "model_type = 'SVM'\n",
    "kernel = 'rbf'\n",
    "label_col = 'dGoffset (kcal/mol)'\n",
    "null_label_col = 'Experimental dGhydr (kcal/mol)'\n",
    "\n",
    "# Set data processing configurations:\n",
    "n_calls = 40  # Number of Bayesian optimisation loops for hyper-parameter optimisation, 40 is best for convergence, > 60 scales to very expensive\n",
    "best_mae = np.inf  # Point to consider top-performing model from (MAE/MAD); 1.0 = no improvement on test-set variance\n",
    "\n",
    "# KFold parameters:\n",
    "n_splits = 5  # Number of K-fold splits\n",
    "random_state = 2  # Random number seed\n",
    "\n",
    "# RDKit:\n",
    "from rdkit import Chem\n",
    "from rdkit.Chem import Draw\n",
    "from rdkit.Chem import AllChem\n",
    "from rdkit.Chem import SDMolSupplier\n",
    "from rdkit import DataStructs"
   ]
  },
  {
   "cell_type": "markdown",
   "metadata": {},
   "source": [
    "### Matplotlib parameters"
   ]
  },
  {
   "cell_type": "code",
   "execution_count": 4,
   "metadata": {},
   "outputs": [],
   "source": [
    "figsize = [7, 7]\n",
    "fontsize = 18\n",
    "markersize = 20\n",
    "linewidth = 2\n",
    "dGhydr_xylim = [-25.0, 5.0]\n",
    "dGoffset_xylim = [-4.0, 2.0]\n",
    "colour1 = 'darkgray'\n",
    "colour2 = 'green'\n",
    "colour3 = 'lightsteelblue'\n",
    "colour4 = 'palegreen'\n",
    "dpi = 300"
   ]
  },
  {
   "cell_type": "markdown",
   "metadata": {},
   "source": [
    "## Path variables"
   ]
  },
  {
   "cell_type": "code",
   "execution_count": 5,
   "metadata": {},
   "outputs": [],
   "source": [
    "# Path variables:\n",
    "datasets_dr = '../datasets/'\n",
    "SDF_dr = datasets_dr + 'sdffiles/'\n",
    "freesolv_loc = datasets_dr + 'freesolv_database.txt'\n",
    "\n",
    "# clean slate output_dr\n",
    "output_dr = 'output/'\n",
    "if os.path.exists(output_dr):\n",
    "    shutil.rmtree(output_dr)\n",
    "if not os.path.exists(output_dr):\n",
    "    os.mkdir(output_dr)\n",
    "\n",
    "# clean slate figures_dr\n",
    "figures_dr = 'figures/'\n",
    "if os.path.exists(figures_dr):\n",
    "    shutil.rmtree(figures_dr)\n",
    "if not os.path.exists(figures_dr):\n",
    "    os.mkdir(figures_dr)\n",
    "    \n",
    "train_dr = datasets_dr + 'train_dr/'\n",
    "test_dr = datasets_dr + 'test_dr/'"
   ]
  },
  {
   "cell_type": "markdown",
   "metadata": {},
   "source": [
    "## Logger"
   ]
  },
  {
   "cell_type": "code",
   "execution_count": 6,
   "metadata": {},
   "outputs": [],
   "source": [
    "# initiate log file\n",
    "logging.basicConfig(filename= output_dr + 'dGhydr_' + model_type + '.log',\n",
    "                    filemode='a',\n",
    "                    format='%(asctime)s - %(message)s',\n",
    "                    level=logging.INFO)\n",
    "\n",
    "logging.info('Starting {}.ipynb.'.format(os.path.abspath('')))\n",
    "logging.info('\\n\\nParameters:\\n\\nn_calls = {}  # gp_minimize\\nn_splits = {}  # Kfolds\\n'.format(n_calls, n_splits))"
   ]
  },
  {
   "cell_type": "markdown",
   "metadata": {},
   "source": [
    "## Data preparation"
   ]
  },
  {
   "cell_type": "markdown",
   "metadata": {},
   "source": [
    "### Load data"
   ]
  },
  {
   "cell_type": "code",
   "execution_count": 7,
   "metadata": {},
   "outputs": [
    {
     "data": {
      "text/html": [
       "<div>\n",
       "<style scoped>\n",
       "    .dataframe tbody tr th:only-of-type {\n",
       "        vertical-align: middle;\n",
       "    }\n",
       "\n",
       "    .dataframe tbody tr th {\n",
       "        vertical-align: top;\n",
       "    }\n",
       "\n",
       "    .dataframe thead th {\n",
       "        text-align: right;\n",
       "    }\n",
       "</style>\n",
       "<table border=\"1\" class=\"dataframe\">\n",
       "  <thead>\n",
       "    <tr style=\"text-align: right;\">\n",
       "      <th></th>\n",
       "      <th>PC1</th>\n",
       "      <th>PC2</th>\n",
       "      <th>PC3</th>\n",
       "      <th>PC4</th>\n",
       "      <th>PC5</th>\n",
       "      <th>PC6</th>\n",
       "      <th>PC7</th>\n",
       "      <th>PC8</th>\n",
       "      <th>PC9</th>\n",
       "      <th>PC10</th>\n",
       "      <th>...</th>\n",
       "      <th>PC103</th>\n",
       "      <th>PC104</th>\n",
       "      <th>PC105</th>\n",
       "      <th>PC106</th>\n",
       "      <th>PC107</th>\n",
       "      <th>PC108</th>\n",
       "      <th>PC109</th>\n",
       "      <th>PC110</th>\n",
       "      <th>PC111</th>\n",
       "      <th>dGoffset (kcal/mol)</th>\n",
       "    </tr>\n",
       "    <tr>\n",
       "      <th>ID</th>\n",
       "      <th></th>\n",
       "      <th></th>\n",
       "      <th></th>\n",
       "      <th></th>\n",
       "      <th></th>\n",
       "      <th></th>\n",
       "      <th></th>\n",
       "      <th></th>\n",
       "      <th></th>\n",
       "      <th></th>\n",
       "      <th></th>\n",
       "      <th></th>\n",
       "      <th></th>\n",
       "      <th></th>\n",
       "      <th></th>\n",
       "      <th></th>\n",
       "      <th></th>\n",
       "      <th></th>\n",
       "      <th></th>\n",
       "      <th></th>\n",
       "      <th></th>\n",
       "    </tr>\n",
       "  </thead>\n",
       "  <tbody>\n",
       "    <tr>\n",
       "      <th>mobley_1017962</th>\n",
       "      <td>1.781592</td>\n",
       "      <td>-9.059647</td>\n",
       "      <td>3.780119</td>\n",
       "      <td>-1.056808</td>\n",
       "      <td>-1.528974</td>\n",
       "      <td>1.154161</td>\n",
       "      <td>2.361153</td>\n",
       "      <td>-2.700138</td>\n",
       "      <td>-5.169281</td>\n",
       "      <td>-2.558583</td>\n",
       "      <td>...</td>\n",
       "      <td>0.176910</td>\n",
       "      <td>0.448660</td>\n",
       "      <td>-0.481919</td>\n",
       "      <td>-0.730970</td>\n",
       "      <td>1.433422</td>\n",
       "      <td>-0.871800</td>\n",
       "      <td>-0.046023</td>\n",
       "      <td>0.146078</td>\n",
       "      <td>-0.985729</td>\n",
       "      <td>0.81</td>\n",
       "    </tr>\n",
       "    <tr>\n",
       "      <th>mobley_1019269</th>\n",
       "      <td>-15.261008</td>\n",
       "      <td>-4.347183</td>\n",
       "      <td>1.379246</td>\n",
       "      <td>0.645708</td>\n",
       "      <td>1.531135</td>\n",
       "      <td>0.856268</td>\n",
       "      <td>2.825631</td>\n",
       "      <td>1.283684</td>\n",
       "      <td>-3.142267</td>\n",
       "      <td>-1.366230</td>\n",
       "      <td>...</td>\n",
       "      <td>0.650525</td>\n",
       "      <td>-0.065040</td>\n",
       "      <td>-0.539433</td>\n",
       "      <td>0.367840</td>\n",
       "      <td>0.331124</td>\n",
       "      <td>0.003756</td>\n",
       "      <td>-0.432505</td>\n",
       "      <td>-0.340372</td>\n",
       "      <td>0.021577</td>\n",
       "      <td>-1.49</td>\n",
       "    </tr>\n",
       "    <tr>\n",
       "      <th>mobley_1034539</th>\n",
       "      <td>36.296153</td>\n",
       "      <td>18.307947</td>\n",
       "      <td>-16.146556</td>\n",
       "      <td>9.478137</td>\n",
       "      <td>5.356792</td>\n",
       "      <td>-1.551679</td>\n",
       "      <td>8.356573</td>\n",
       "      <td>-6.716154</td>\n",
       "      <td>-1.947512</td>\n",
       "      <td>7.365367</td>\n",
       "      <td>...</td>\n",
       "      <td>0.168824</td>\n",
       "      <td>0.777216</td>\n",
       "      <td>1.135480</td>\n",
       "      <td>0.712777</td>\n",
       "      <td>-0.498693</td>\n",
       "      <td>0.691487</td>\n",
       "      <td>-1.452439</td>\n",
       "      <td>0.096043</td>\n",
       "      <td>-1.621214</td>\n",
       "      <td>-1.96</td>\n",
       "    </tr>\n",
       "    <tr>\n",
       "      <th>mobley_1036761</th>\n",
       "      <td>-7.287637</td>\n",
       "      <td>-6.559314</td>\n",
       "      <td>-4.371576</td>\n",
       "      <td>-0.002275</td>\n",
       "      <td>1.794860</td>\n",
       "      <td>5.108000</td>\n",
       "      <td>0.532538</td>\n",
       "      <td>-1.465378</td>\n",
       "      <td>-2.029966</td>\n",
       "      <td>-1.791384</td>\n",
       "      <td>...</td>\n",
       "      <td>0.644729</td>\n",
       "      <td>0.141384</td>\n",
       "      <td>2.021007</td>\n",
       "      <td>0.251282</td>\n",
       "      <td>-0.186177</td>\n",
       "      <td>0.216360</td>\n",
       "      <td>-2.022736</td>\n",
       "      <td>-0.802692</td>\n",
       "      <td>-0.227339</td>\n",
       "      <td>-0.64</td>\n",
       "    </tr>\n",
       "    <tr>\n",
       "      <th>mobley_1046331</th>\n",
       "      <td>0.013096</td>\n",
       "      <td>5.160060</td>\n",
       "      <td>-0.553108</td>\n",
       "      <td>-8.828100</td>\n",
       "      <td>-1.271934</td>\n",
       "      <td>-2.744112</td>\n",
       "      <td>1.456818</td>\n",
       "      <td>0.573025</td>\n",
       "      <td>-3.004421</td>\n",
       "      <td>-1.923495</td>\n",
       "      <td>...</td>\n",
       "      <td>-0.823191</td>\n",
       "      <td>0.277780</td>\n",
       "      <td>1.177761</td>\n",
       "      <td>-0.455553</td>\n",
       "      <td>0.149812</td>\n",
       "      <td>-0.992073</td>\n",
       "      <td>-0.448685</td>\n",
       "      <td>-0.195229</td>\n",
       "      <td>0.616093</td>\n",
       "      <td>1.62</td>\n",
       "    </tr>\n",
       "    <tr>\n",
       "      <th>...</th>\n",
       "      <td>...</td>\n",
       "      <td>...</td>\n",
       "      <td>...</td>\n",
       "      <td>...</td>\n",
       "      <td>...</td>\n",
       "      <td>...</td>\n",
       "      <td>...</td>\n",
       "      <td>...</td>\n",
       "      <td>...</td>\n",
       "      <td>...</td>\n",
       "      <td>...</td>\n",
       "      <td>...</td>\n",
       "      <td>...</td>\n",
       "      <td>...</td>\n",
       "      <td>...</td>\n",
       "      <td>...</td>\n",
       "      <td>...</td>\n",
       "      <td>...</td>\n",
       "      <td>...</td>\n",
       "      <td>...</td>\n",
       "      <td>...</td>\n",
       "    </tr>\n",
       "    <tr>\n",
       "      <th>mobley_9913368</th>\n",
       "      <td>-20.236474</td>\n",
       "      <td>9.027594</td>\n",
       "      <td>-0.488696</td>\n",
       "      <td>6.984286</td>\n",
       "      <td>2.903779</td>\n",
       "      <td>-4.453868</td>\n",
       "      <td>1.557532</td>\n",
       "      <td>1.482581</td>\n",
       "      <td>-0.569213</td>\n",
       "      <td>-0.728069</td>\n",
       "      <td>...</td>\n",
       "      <td>0.662516</td>\n",
       "      <td>0.124512</td>\n",
       "      <td>-1.252097</td>\n",
       "      <td>0.093136</td>\n",
       "      <td>0.964358</td>\n",
       "      <td>1.117784</td>\n",
       "      <td>-0.596488</td>\n",
       "      <td>0.125104</td>\n",
       "      <td>-0.104126</td>\n",
       "      <td>-1.80</td>\n",
       "    </tr>\n",
       "    <tr>\n",
       "      <th>mobley_9942801</th>\n",
       "      <td>0.465744</td>\n",
       "      <td>-3.377600</td>\n",
       "      <td>-9.321441</td>\n",
       "      <td>-5.431455</td>\n",
       "      <td>0.795493</td>\n",
       "      <td>0.275491</td>\n",
       "      <td>-3.901344</td>\n",
       "      <td>-1.813911</td>\n",
       "      <td>3.214033</td>\n",
       "      <td>0.992900</td>\n",
       "      <td>...</td>\n",
       "      <td>0.550031</td>\n",
       "      <td>-0.060056</td>\n",
       "      <td>0.567654</td>\n",
       "      <td>0.528096</td>\n",
       "      <td>0.281406</td>\n",
       "      <td>-0.258472</td>\n",
       "      <td>0.607825</td>\n",
       "      <td>0.480860</td>\n",
       "      <td>-0.378041</td>\n",
       "      <td>-0.38</td>\n",
       "    </tr>\n",
       "    <tr>\n",
       "      <th>mobley_994483</th>\n",
       "      <td>-23.790773</td>\n",
       "      <td>3.251655</td>\n",
       "      <td>-1.631419</td>\n",
       "      <td>11.152238</td>\n",
       "      <td>3.508680</td>\n",
       "      <td>-7.857823</td>\n",
       "      <td>-2.714649</td>\n",
       "      <td>3.183763</td>\n",
       "      <td>0.001303</td>\n",
       "      <td>-1.865963</td>\n",
       "      <td>...</td>\n",
       "      <td>0.202422</td>\n",
       "      <td>-0.385468</td>\n",
       "      <td>0.059621</td>\n",
       "      <td>-1.176402</td>\n",
       "      <td>0.542244</td>\n",
       "      <td>0.026653</td>\n",
       "      <td>-1.198516</td>\n",
       "      <td>-0.103893</td>\n",
       "      <td>0.185989</td>\n",
       "      <td>-1.23</td>\n",
       "    </tr>\n",
       "    <tr>\n",
       "      <th>mobley_9974966</th>\n",
       "      <td>-7.485137</td>\n",
       "      <td>-8.419295</td>\n",
       "      <td>-3.439812</td>\n",
       "      <td>6.400467</td>\n",
       "      <td>-3.151041</td>\n",
       "      <td>3.133507</td>\n",
       "      <td>-4.384348</td>\n",
       "      <td>-3.678455</td>\n",
       "      <td>6.494977</td>\n",
       "      <td>6.819835</td>\n",
       "      <td>...</td>\n",
       "      <td>-0.746396</td>\n",
       "      <td>-0.626866</td>\n",
       "      <td>-1.084912</td>\n",
       "      <td>0.240855</td>\n",
       "      <td>-0.400569</td>\n",
       "      <td>-1.748269</td>\n",
       "      <td>-0.498583</td>\n",
       "      <td>-0.721052</td>\n",
       "      <td>-0.141620</td>\n",
       "      <td>-1.35</td>\n",
       "    </tr>\n",
       "    <tr>\n",
       "      <th>mobley_9979854</th>\n",
       "      <td>-5.298027</td>\n",
       "      <td>11.052041</td>\n",
       "      <td>19.860505</td>\n",
       "      <td>-2.104938</td>\n",
       "      <td>-3.803667</td>\n",
       "      <td>6.641799</td>\n",
       "      <td>-1.995134</td>\n",
       "      <td>-8.120011</td>\n",
       "      <td>5.450319</td>\n",
       "      <td>-2.381429</td>\n",
       "      <td>...</td>\n",
       "      <td>-2.059559</td>\n",
       "      <td>-1.528944</td>\n",
       "      <td>-0.728551</td>\n",
       "      <td>0.369873</td>\n",
       "      <td>0.012996</td>\n",
       "      <td>-0.453640</td>\n",
       "      <td>-0.613581</td>\n",
       "      <td>-0.294865</td>\n",
       "      <td>1.107766</td>\n",
       "      <td>-0.71</td>\n",
       "    </tr>\n",
       "  </tbody>\n",
       "</table>\n",
       "<p>601 rows × 112 columns</p>\n",
       "</div>"
      ],
      "text/plain": [
       "                      PC1        PC2        PC3        PC4       PC5  \\\n",
       "ID                                                                     \n",
       "mobley_1017962   1.781592  -9.059647   3.780119  -1.056808 -1.528974   \n",
       "mobley_1019269 -15.261008  -4.347183   1.379246   0.645708  1.531135   \n",
       "mobley_1034539  36.296153  18.307947 -16.146556   9.478137  5.356792   \n",
       "mobley_1036761  -7.287637  -6.559314  -4.371576  -0.002275  1.794860   \n",
       "mobley_1046331   0.013096   5.160060  -0.553108  -8.828100 -1.271934   \n",
       "...                   ...        ...        ...        ...       ...   \n",
       "mobley_9913368 -20.236474   9.027594  -0.488696   6.984286  2.903779   \n",
       "mobley_9942801   0.465744  -3.377600  -9.321441  -5.431455  0.795493   \n",
       "mobley_994483  -23.790773   3.251655  -1.631419  11.152238  3.508680   \n",
       "mobley_9974966  -7.485137  -8.419295  -3.439812   6.400467 -3.151041   \n",
       "mobley_9979854  -5.298027  11.052041  19.860505  -2.104938 -3.803667   \n",
       "\n",
       "                     PC6       PC7       PC8       PC9      PC10  ...  \\\n",
       "ID                                                                ...   \n",
       "mobley_1017962  1.154161  2.361153 -2.700138 -5.169281 -2.558583  ...   \n",
       "mobley_1019269  0.856268  2.825631  1.283684 -3.142267 -1.366230  ...   \n",
       "mobley_1034539 -1.551679  8.356573 -6.716154 -1.947512  7.365367  ...   \n",
       "mobley_1036761  5.108000  0.532538 -1.465378 -2.029966 -1.791384  ...   \n",
       "mobley_1046331 -2.744112  1.456818  0.573025 -3.004421 -1.923495  ...   \n",
       "...                  ...       ...       ...       ...       ...  ...   \n",
       "mobley_9913368 -4.453868  1.557532  1.482581 -0.569213 -0.728069  ...   \n",
       "mobley_9942801  0.275491 -3.901344 -1.813911  3.214033  0.992900  ...   \n",
       "mobley_994483  -7.857823 -2.714649  3.183763  0.001303 -1.865963  ...   \n",
       "mobley_9974966  3.133507 -4.384348 -3.678455  6.494977  6.819835  ...   \n",
       "mobley_9979854  6.641799 -1.995134 -8.120011  5.450319 -2.381429  ...   \n",
       "\n",
       "                   PC103     PC104     PC105     PC106     PC107     PC108  \\\n",
       "ID                                                                           \n",
       "mobley_1017962  0.176910  0.448660 -0.481919 -0.730970  1.433422 -0.871800   \n",
       "mobley_1019269  0.650525 -0.065040 -0.539433  0.367840  0.331124  0.003756   \n",
       "mobley_1034539  0.168824  0.777216  1.135480  0.712777 -0.498693  0.691487   \n",
       "mobley_1036761  0.644729  0.141384  2.021007  0.251282 -0.186177  0.216360   \n",
       "mobley_1046331 -0.823191  0.277780  1.177761 -0.455553  0.149812 -0.992073   \n",
       "...                  ...       ...       ...       ...       ...       ...   \n",
       "mobley_9913368  0.662516  0.124512 -1.252097  0.093136  0.964358  1.117784   \n",
       "mobley_9942801  0.550031 -0.060056  0.567654  0.528096  0.281406 -0.258472   \n",
       "mobley_994483   0.202422 -0.385468  0.059621 -1.176402  0.542244  0.026653   \n",
       "mobley_9974966 -0.746396 -0.626866 -1.084912  0.240855 -0.400569 -1.748269   \n",
       "mobley_9979854 -2.059559 -1.528944 -0.728551  0.369873  0.012996 -0.453640   \n",
       "\n",
       "                   PC109     PC110     PC111  dGoffset (kcal/mol)  \n",
       "ID                                                                 \n",
       "mobley_1017962 -0.046023  0.146078 -0.985729                 0.81  \n",
       "mobley_1019269 -0.432505 -0.340372  0.021577                -1.49  \n",
       "mobley_1034539 -1.452439  0.096043 -1.621214                -1.96  \n",
       "mobley_1036761 -2.022736 -0.802692 -0.227339                -0.64  \n",
       "mobley_1046331 -0.448685 -0.195229  0.616093                 1.62  \n",
       "...                  ...       ...       ...                  ...  \n",
       "mobley_9913368 -0.596488  0.125104 -0.104126                -1.80  \n",
       "mobley_9942801  0.607825  0.480860 -0.378041                -0.38  \n",
       "mobley_994483  -1.198516 -0.103893  0.185989                -1.23  \n",
       "mobley_9974966 -0.498583 -0.721052 -0.141620                -1.35  \n",
       "mobley_9979854 -0.613581 -0.294865  1.107766                -0.71  \n",
       "\n",
       "[601 rows x 112 columns]"
      ]
     },
     "execution_count": 7,
     "metadata": {},
     "output_type": "execute_result"
    }
   ],
   "source": [
    "train_path = datasets_dr + 'train_data.csv'\n",
    "train_df = pd.read_csv(train_path, index_col='ID').iloc[:,:-1]\n",
    "logging.info('Loaded training data from {} removing dGoffset uncertainties column.'.format(train_path))\n",
    "train_df"
   ]
  },
  {
   "cell_type": "markdown",
   "metadata": {},
   "source": [
    "### Cross validation"
   ]
  },
  {
   "cell_type": "code",
   "execution_count": 8,
   "metadata": {},
   "outputs": [],
   "source": [
    "def split_dataset(dataset, n_splits, random_state, label_name):\n",
    "    \"\"\"KFold implementation for pandas DataFrame.\n",
    "    (https://stackoverflow.com/questions/45115964/separate-pandas-dataframe-using-sklearns-kfold)\"\"\"\n",
    "    logging.info('Performing {}-fold cross-validation...'.format(n_splits))\n",
    "\n",
    "    kf = KFold(n_splits=n_splits, shuffle=True, random_state=random_state)\n",
    "\n",
    "    kfolds = []\n",
    "    global offset_col_name\n",
    "\n",
    "    for train, validate in kf.split(dataset):\n",
    "        training = dataset.iloc[train]\n",
    "        train_labels = training[label_name]\n",
    "        train_set = training.drop(label_name, axis=1)\n",
    "\n",
    "        validating = dataset.iloc[validate]\n",
    "        validate_labels = validating[label_name]\n",
    "        validate_set = validating.drop(label_name, axis=1)\n",
    "\n",
    "        kfolds.append(\n",
    "            [[train_set, validate_set],\n",
    "             [train_labels, validate_labels]]\n",
    "        )\n",
    "\n",
    "    json_path = output_dr +'kfolds.json'\n",
    "    with open(json_path, \"wb\") as file:\n",
    "        pickle.dump(kfolds, file)\n",
    "\n",
    "    logging.info('Pickled kfolds nested list at {}.'.format(json_path))\n",
    "    return kfolds"
   ]
  },
  {
   "cell_type": "code",
   "execution_count": 9,
   "metadata": {},
   "outputs": [],
   "source": [
    "# Call function\n",
    "kfolds = split_dataset(train_df, n_splits, random_state, label_col)"
   ]
  },
  {
   "cell_type": "markdown",
   "metadata": {},
   "source": [
    "## Training"
   ]
  },
  {
   "cell_type": "markdown",
   "metadata": {},
   "source": [
    "### Hyper-parameter ranges"
   ]
  },
  {
   "cell_type": "code",
   "execution_count": 10,
   "metadata": {},
   "outputs": [],
   "source": [
    "# Set hyper-parameter ranges and append to list.\n",
    "dim_param_C = Categorical(categories=list(np.logspace(-3, 2, 6, dtype=\"float32\")), name=\"param_C\")\n",
    "dim_param_gamma = Categorical(categories=list(np.logspace(-3, 2, 6, dtype=\"float32\")), name=\"param_gamma\")\n",
    "dim_param_epsilon = Categorical(categories=list(np.logspace(-3, 2, 6, dtype=\"float32\")), name=\"param_epsilon\")\n",
    "\n",
    "# gp_minimize dimensions\n",
    "dimensions = [dim_param_C, dim_param_gamma, dim_param_epsilon]"
   ]
  },
  {
   "cell_type": "markdown",
   "metadata": {},
   "source": [
    "### SVR model"
   ]
  },
  {
   "cell_type": "code",
   "execution_count": 11,
   "metadata": {},
   "outputs": [],
   "source": [
    "def create_model(param_gamma, param_C, param_epsilon):\n",
    "    \"\"\"Returns a SVR class instance.\"\"\"\n",
    "    \n",
    "    return SVR(kernel=kernel,\n",
    "               gamma=param_gamma,\n",
    "               C=param_C,\n",
    "               epsilon=param_epsilon,\n",
    "               verbose=False)"
   ]
  },
  {
   "cell_type": "markdown",
   "metadata": {},
   "source": [
    "### Training function"
   ]
  },
  {
   "cell_type": "code",
   "execution_count": 12,
   "metadata": {},
   "outputs": [],
   "source": [
    "# Init. training statistics logger.\n",
    "mae_logger = output_dr + model_type + '_mae_per_call.csv'\n",
    "with open(mae_logger, 'w') as file:\n",
    "    writer = csv.writer(file)\n",
    "    writer.writerow(['Fold', 'MAE (kcal/mol)', 'Parameters'])"
   ]
  },
  {
   "cell_type": "code",
   "execution_count": 13,
   "metadata": {},
   "outputs": [],
   "source": [
    "class tqdm_skopt(object):\n",
    "    \"\"\"tqdm implementation for skopt.gp_minimize.\"\"\"\n",
    "    def __init__(self, **kwargs):\n",
    "        self._bar = tqdm(**kwargs)\n",
    "        \n",
    "    def __call__(self, res):\n",
    "        self._bar.update()"
   ]
  },
  {
   "cell_type": "code",
   "execution_count": 14,
   "metadata": {},
   "outputs": [],
   "source": [
    "def train_model(fold, fold_num, *args):\n",
    "    \"\"\"\n",
    "    1. Unpack data.\n",
    "    2. Define fitness function for guassian process optmisation.\n",
    "    3. Decorate fitness with pre-defined hyper-parameter ranges.\n",
    "    4. Return and pickle final gp_minimize object.\n",
    "    \"\"\"\n",
    "    logging.info('Started training fold {}...'.format(str(fold_num)))\n",
    "\n",
    "    # Retrieve data sets and convert to numpy array\n",
    "    train_X = fold[0][0].values\n",
    "    validate_X = fold[0][1].values\n",
    "    train_y = fold[1][0].values\n",
    "    validate_y = fold[1][1].values\n",
    "    \n",
    "    # Specify whether model is null.\n",
    "    null = ''\n",
    "    for arg in args:\n",
    "        null = arg + '_'\n",
    "    \n",
    "    # Define function for gaussian process optimisation\n",
    "    @use_named_args(dimensions=dimensions)\n",
    "    def fitness(param_C, param_gamma, param_epsilon):\n",
    "        \"\"\"Function for gaussian process optmisation.\"\"\"\n",
    "\n",
    "        # Create SVR model\n",
    "        model = create_model(param_C, param_gamma, param_epsilon)\n",
    "\n",
    "        # Train model on training data\n",
    "        model.fit(train_X, train_y)\n",
    "\n",
    "        # Validate model\n",
    "        predicted_y = model.predict(validate_X)\n",
    "        mae = mean_absolute_error(validate_y, predicted_y)\n",
    "\n",
    "        # Update statistics\n",
    "        with open(mae_logger, 'a') as file:\n",
    "            writer = csv.writer(file)\n",
    "            writer.writerow([fold_num, mae, [param_gamma, param_gamma, param_epsilon]])\n",
    "\n",
    "        # Check if model improves\n",
    "        global best_mae\n",
    "        if mae < best_mae:\n",
    "            # Update new model accuracy.\n",
    "            best_mae = mae\n",
    "            # Overwrite model if mae improves\n",
    "            pkl_file = output_dr + 'fold_' + str(fold_num) + '_' + null + model_type + '_model.pickle'\n",
    "            with open(pkl_file, 'wb') as file: pickle.dump(model, file)\n",
    "            logging.info('Saved {}.'.format(pkl_file))\n",
    "\n",
    "        # Reset best MAE\n",
    "        best_mae = np.inf\n",
    "        \n",
    "        return mae\n",
    "    \n",
    "    # Starting parameters\n",
    "    default_parameters = [1.0, 1.0, 1.0]\n",
    "    # Optimise hyper-parameters\n",
    "    search_result = gp_minimize(func=fitness,\n",
    "                                dimensions=dimensions,\n",
    "                                acq_func='EI',  # Expected Improvement.\n",
    "                                n_calls=n_calls,\n",
    "                                x0=default_parameters,\n",
    "                                verbose=False,\n",
    "                                callback=[tqdm_skopt(total=n_calls, desc='Fold {}'.format(fold_num))])\n",
    "\n",
    "    # Save skopt object and analyse in a separate script as\n",
    "    logging.info('Saved {}fold_{}_gp_minimize_result.pickle.'.format(output_dr, fold_num))\n",
    "\n",
    "    logging.info('Finished training fold {}: {}.'.format(str(fold_num), search_result.x))\n",
    "    return search_result"
   ]
  },
  {
   "cell_type": "markdown",
   "metadata": {},
   "source": [
    "### Perform training per fold"
   ]
  },
  {
   "cell_type": "code",
   "execution_count": 15,
   "metadata": {
    "scrolled": false
   },
   "outputs": [
    {
     "name": "stderr",
     "output_type": "stream",
     "text": [
      "/home/jscheen/.local/lib/python3.6/site-packages/ipykernel_launcher.py:4: TqdmDeprecationWarning: This function will be removed in tqdm==5.0.0\n",
      "Please use `tqdm.notebook.tqdm` instead of `tqdm.tqdm_notebook`\n",
      "  after removing the cwd from sys.path.\n"
     ]
    },
    {
     "data": {
      "application/vnd.jupyter.widget-view+json": {
       "model_id": "c3aec7f5c67740de9af97506873d2c8a",
       "version_major": 2,
       "version_minor": 0
      },
      "text/plain": [
       "HBox(children=(FloatProgress(value=0.0, description='Fold 1', max=40.0, style=ProgressStyle(description_width=…"
      ]
     },
     "metadata": {},
     "output_type": "display_data"
    },
    {
     "name": "stderr",
     "output_type": "stream",
     "text": [
      "/home/jscheen/.local/lib/python3.6/site-packages/ipykernel_launcher.py:4: TqdmDeprecationWarning: This function will be removed in tqdm==5.0.0\n",
      "Please use `tqdm.notebook.tqdm` instead of `tqdm.tqdm_notebook`\n",
      "  after removing the cwd from sys.path.\n"
     ]
    },
    {
     "data": {
      "application/vnd.jupyter.widget-view+json": {
       "model_id": "85ea79068faa4f708853344e1b033abb",
       "version_major": 2,
       "version_minor": 0
      },
      "text/plain": [
       "HBox(children=(FloatProgress(value=0.0, description='Fold 2', max=40.0, style=ProgressStyle(description_width=…"
      ]
     },
     "metadata": {},
     "output_type": "display_data"
    },
    {
     "name": "stderr",
     "output_type": "stream",
     "text": [
      "/home/jscheen/.local/lib/python3.6/site-packages/skopt/optimizer/optimizer.py:399: UserWarning: The objective has been evaluated at this point before.\n",
      "  warnings.warn(\"The objective has been evaluated \"\n",
      "/home/jscheen/.local/lib/python3.6/site-packages/ipykernel_launcher.py:4: TqdmDeprecationWarning: This function will be removed in tqdm==5.0.0\n",
      "Please use `tqdm.notebook.tqdm` instead of `tqdm.tqdm_notebook`\n",
      "  after removing the cwd from sys.path.\n"
     ]
    },
    {
     "data": {
      "application/vnd.jupyter.widget-view+json": {
       "model_id": "77ef44aeee2044858ac30a0685a35b53",
       "version_major": 2,
       "version_minor": 0
      },
      "text/plain": [
       "HBox(children=(FloatProgress(value=0.0, description='Fold 3', max=40.0, style=ProgressStyle(description_width=…"
      ]
     },
     "metadata": {},
     "output_type": "display_data"
    },
    {
     "name": "stderr",
     "output_type": "stream",
     "text": [
      "/home/jscheen/.local/lib/python3.6/site-packages/skopt/optimizer/optimizer.py:399: UserWarning: The objective has been evaluated at this point before.\n",
      "  warnings.warn(\"The objective has been evaluated \"\n",
      "/home/jscheen/.local/lib/python3.6/site-packages/skopt/optimizer/optimizer.py:399: UserWarning: The objective has been evaluated at this point before.\n",
      "  warnings.warn(\"The objective has been evaluated \"\n",
      "/home/jscheen/.local/lib/python3.6/site-packages/skopt/optimizer/optimizer.py:399: UserWarning: The objective has been evaluated at this point before.\n",
      "  warnings.warn(\"The objective has been evaluated \"\n",
      "/home/jscheen/.local/lib/python3.6/site-packages/skopt/optimizer/optimizer.py:399: UserWarning: The objective has been evaluated at this point before.\n",
      "  warnings.warn(\"The objective has been evaluated \"\n",
      "/home/jscheen/.local/lib/python3.6/site-packages/ipykernel_launcher.py:4: TqdmDeprecationWarning: This function will be removed in tqdm==5.0.0\n",
      "Please use `tqdm.notebook.tqdm` instead of `tqdm.tqdm_notebook`\n",
      "  after removing the cwd from sys.path.\n"
     ]
    },
    {
     "data": {
      "application/vnd.jupyter.widget-view+json": {
       "model_id": "7454e0b9223c4d2bad4fe6487f005033",
       "version_major": 2,
       "version_minor": 0
      },
      "text/plain": [
       "HBox(children=(FloatProgress(value=0.0, description='Fold 4', max=40.0, style=ProgressStyle(description_width=…"
      ]
     },
     "metadata": {},
     "output_type": "display_data"
    },
    {
     "name": "stderr",
     "output_type": "stream",
     "text": [
      "/home/jscheen/.local/lib/python3.6/site-packages/skopt/optimizer/optimizer.py:399: UserWarning: The objective has been evaluated at this point before.\n",
      "  warnings.warn(\"The objective has been evaluated \"\n",
      "/home/jscheen/.local/lib/python3.6/site-packages/ipykernel_launcher.py:4: TqdmDeprecationWarning: This function will be removed in tqdm==5.0.0\n",
      "Please use `tqdm.notebook.tqdm` instead of `tqdm.tqdm_notebook`\n",
      "  after removing the cwd from sys.path.\n"
     ]
    },
    {
     "data": {
      "application/vnd.jupyter.widget-view+json": {
       "model_id": "14c90f4c9a64416a9f8e2220d6197fe7",
       "version_major": 2,
       "version_minor": 0
      },
      "text/plain": [
       "HBox(children=(FloatProgress(value=0.0, description='Fold 5', max=40.0, style=ProgressStyle(description_width=…"
      ]
     },
     "metadata": {},
     "output_type": "display_data"
    },
    {
     "name": "stderr",
     "output_type": "stream",
     "text": [
      "/home/jscheen/.local/lib/python3.6/site-packages/skopt/optimizer/optimizer.py:399: UserWarning: The objective has been evaluated at this point before.\n",
      "  warnings.warn(\"The objective has been evaluated \"\n"
     ]
    }
   ],
   "source": [
    "# Call train_model and save gp_minimize objects to list.\n",
    "gp_results = [train_model(fold, fold_num + 1) for fold_num, fold in enumerate(kfolds)]"
   ]
  },
  {
   "cell_type": "markdown",
   "metadata": {},
   "source": [
    "### Convergence plot"
   ]
  },
  {
   "cell_type": "code",
   "execution_count": 16,
   "metadata": {},
   "outputs": [],
   "source": [
    "def mae_convergence(dataframe):\n",
    "\n",
    "    # x values\n",
    "    x = np.linspace(1, 40, 40)\n",
    "\n",
    "    # y values\n",
    "    mae = [dataframe.loc[dataframe.iloc[:, 0] == fold, 'MAE (kcal/mol)'].cummin()\n",
    "           for fold in range(1, n_splits + 1)]\n",
    "    cumm_mae = list(zip(*mae))\n",
    "    y = [statistics.mean(call) for call in cumm_mae]\n",
    "\n",
    "    # standard devation\n",
    "    std = [statistics.stdev(call) for call in cumm_mae]\n",
    "\n",
    "    # standard devation bounds\n",
    "    y1 = [i - sd for i, sd in zip(y, std)]\n",
    "    y2 = [i + sd for i, sd in zip(y, std)]\n",
    "\n",
    "    # Setup figure.\n",
    "    fig, ax = plt.subplots(figsize=figsize)\n",
    "    for axis in ['top','bottom','left','right']: ax.spines[axis].set_linewidth(linewidth)  # Frame line width.\n",
    "    ax.tick_params(axis='both', which='major', direction='out', length=7, width=linewidth,\n",
    "                   labelsize=fontsize, top=True, right=True, bottom=True, left=True)\n",
    "    ax.set_xlim([1, n_calls])  # x-axis range.\n",
    "    ax.set_ylim([0.4, 1.2])  # y-axis range.\n",
    "\n",
    "    ax.plot(x, y,\n",
    "            color=colour2,\n",
    "            linewidth=linewidth,\n",
    "            label='Average MAE over {} folds'.format(n_splits))\n",
    "\n",
    "    # plot standard deviation fill bounds\n",
    "    ax.fill_between(x, y1, y2,\n",
    "                    #fc=colour3,\n",
    "                    #ec=colour3,\n",
    "                    label='Standard deviation')\n",
    "\n",
    "    ax.set_xlabel('Number of calls $n$', fontsize=fontsize)\n",
    "    ax.set_ylabel('Mean absolute error / kcal mol$^{-1}$', fontsize=fontsize)\n",
    "    ax.tick_params(axis='both', which='major', labelsize=fontsize)\n",
    "\n",
    "    ax.legend(fontsize=fontsize, frameon=False)\n",
    "    plt.tight_layout()\n",
    "    \n",
    "    fig.savefig(figures_dr + 'convergence_plot.png', dpi=dpi)\n",
    "    \n",
    "    return ax"
   ]
  },
  {
   "cell_type": "code",
   "execution_count": 17,
   "metadata": {},
   "outputs": [
    {
     "data": {
      "text/plain": [
       "<matplotlib.axes._subplots.AxesSubplot at 0x7f53e9dff550>"
      ]
     },
     "execution_count": 17,
     "metadata": {},
     "output_type": "execute_result"
    },
    {
     "data": {
      "image/png": "[encoded data removed]",
      "text/plain": [
       "<Figure size 504x504 with 1 Axes>"
      ]
     },
     "metadata": {
      "needs_background": "light"
     },
     "output_type": "display_data"
    }
   ],
   "source": [
    "mae_logger = output_dr + model_type + '_mae_per_call.csv'\n",
    "mae_df = pd.read_csv(mae_logger).head(n_calls*n_splits)  # Load previously defined training statistics logger.\n",
    "mae_convergence(mae_df)  # Plot convergence plot."
   ]
  },
  {
   "cell_type": "markdown",
   "metadata": {},
   "source": [
    "## Statistics"
   ]
  },
  {
   "cell_type": "markdown",
   "metadata": {},
   "source": [
    "### Average error"
   ]
  },
  {
   "cell_type": "markdown",
   "metadata": {},
   "source": [
    "RMSE, Average error, tau, r, mae"
   ]
  },
  {
   "cell_type": "markdown",
   "metadata": {},
   "source": [
    "## External testing"
   ]
  },
  {
   "cell_type": "markdown",
   "metadata": {},
   "source": [
    "# DELETE EVERYTHING AFTER THIS\n"
   ]
  },
  {
   "cell_type": "code",
   "execution_count": 19,
   "metadata": {},
   "outputs": [],
   "source": [
    "def plot_scatter(calc, exp, title, x_label, y_label, colour):\n",
    "    \"\"\"\n",
    "    Returns and saves linear regression scatter plot.\n",
    "    Note: takes pre-defined global variables: figsize, linewidth, fontsize, dGhydr_xlim, dGhydr_ylim, markersize, colour1 and colour2,\n",
    "    and pre-defined functions: calc_mae() and calc_pearson_r().\n",
    "    Parameters\n",
    "    ----------\n",
    "    calc: (DataFrame) calculated data at column index 0 with associated errors at column index 1.\n",
    "    exp: (DataFrame) experimental data at column index 0 with associated errors at column index 1.\n",
    "    title: (str) plot title and filename delimitted by underscores. Avoid special characters.\n",
    "    x_label: (str) x-axis label.\n",
    "    y_label: (str) y-axis label.\n",
    "    \"\"\"\n",
    "    \n",
    "    # Unpack data.\n",
    "    x = calc.iloc[:,0]\n",
    "    y = exp.iloc[:,0]\n",
    "    \n",
    "    # Setup figure.\n",
    "    fig, ax = plt.subplots(figsize=figsize)\n",
    "    for axis in ['top','bottom','left','right']: ax.spines[axis].set_linewidth(linewidth)  # Frame line width.\n",
    "    ax.tick_params(axis='both', which='major', direction='out', length=7, width=linewidth,\n",
    "                   labelsize=fontsize, top=True, right=True, bottom=True, left=True)\n",
    "    ax.set_xlabel(x_label, fontsize=fontsize)  # X-axis label font size.\n",
    "    ax.set_ylabel(y_label, fontsize=fontsize)  # Y-axis label font size.\n",
    "    if 'offset' in title:\n",
    "        ax.set_xlim(dGoffset_xylim)  # x-axis range.\n",
    "        ax.set_ylim(dGoffset_xylim)  # y-axis range.\n",
    "    else:\n",
    "        ax.set_xlim(dGhydr_xylim)  # x-axis range.\n",
    "        ax.set_ylim(dGhydr_xylim)  # y-axis range.\n",
    "    \n",
    "    # Plot scatter.\n",
    "    ax.scatter(x, y, color=colour, s=markersize)\n",
    "\n",
    "    # Plot x = y line.\n",
    "    xlin = np.linspace(-100, 100, 200)  # linear x\n",
    "    ylin = np.linspace(-100, 100, 200)  # linear y\n",
    "    ax.plot(xlin, ylin, color='k', linewidth=linewidth)\n",
    "    \n",
    "    \n",
    "    # Calculate mean absolute error.\n",
    "    mae = round(calc_mae(x, y), 3)\n",
    "    \n",
    "    # Calculate Pearson R.\n",
    "    r_value = round(calc_pearson_r(x, y), 3)\n",
    "\n",
    "    # tau_value = \n",
    "    \n",
    "    \n",
    "    \n",
    "    # Annotate with mean absolute error, kendall tau and Pearson R.\n",
    "    \n",
    "    string = 'MAE = {} {}\\nR = {}'.format(mae, 'kcal mol$^{-1}$', r_value).replace('+/-', ' $\\pm$ ')\n",
    "    \n",
    "    ax.annotate(string, xy=(0, 1), xytext=(12, -12), va='top',\n",
    "                 xycoords='axes fraction', textcoords='offset points',\n",
    "                 size=fontsize)\n",
    "    \n",
    "    plt.gcf().subplots_adjust(left=0.15)\n",
    "    \n",
    "    # Save figure using the title as filename.\n",
    "    filename = figures_dr + str(title).lower().replace(' ', '_') + '.png'\n",
    "    plt.savefig(filename, dpi=dpi)\n",
    "    logging.info('Saved {}.'.format(filename))"
   ]
  },
  {
   "cell_type": "markdown",
   "metadata": {},
   "source": [
    "### Load testing data\n",
    "\n",
    "All data is read and spliced as DataFrames sorted by index."
   ]
  },
  {
   "cell_type": "markdown",
   "metadata": {},
   "source": [
    "FreeSolv database"
   ]
  },
  {
   "cell_type": "code",
   "execution_count": 20,
   "metadata": {
    "scrolled": true
   },
   "outputs": [],
   "source": [
    "freesolv_df = pd.read_csv(freesolv_loc, sep='; ', engine='python').rename(columns={'compound id (and file prefix)': 'ID'})\n",
    "freesolv_df = freesolv_df.set_index('ID').sort_index()"
   ]
  },
  {
   "cell_type": "markdown",
   "metadata": {},
   "source": [
    "Experimental $\\Delta G_{hydr}$ values with respective uncertainties."
   ]
  },
  {
   "cell_type": "code",
   "execution_count": 21,
   "metadata": {},
   "outputs": [],
   "source": [
    "test_exp = freesolv_df.loc[freesolv_df.iloc[:, 6] == 'SAMPL4_Guthrie',\n",
    "                           ['experimental value (kcal/mol)', 'experimental uncertainty (kcal/mol)']].sort_index()"
   ]
  },
  {
   "cell_type": "markdown",
   "metadata": {},
   "source": [
    "FEP-calculated $\\Delta G_{hydr}$ values with respective uncertainties."
   ]
  },
  {
   "cell_type": "code",
   "execution_count": 22,
   "metadata": {},
   "outputs": [],
   "source": [
    "test_fep = freesolv_df.loc[freesolv_df.iloc[:, 6] == 'SAMPL4_Guthrie',\n",
    "                           ['Mobley group calculated value (GAFF) (kcal/mol)', 'calculated uncertainty (kcal/mol)']].sort_index()"
   ]
  },
  {
   "cell_type": "markdown",
   "metadata": {},
   "source": [
    "Test set features."
   ]
  },
  {
   "cell_type": "code",
   "execution_count": 23,
   "metadata": {
    "scrolled": true
   },
   "outputs": [],
   "source": [
    "test_X = pd.read_csv(datasets_dr + 'test_data.csv', index_col='ID').iloc[:,:-2].sort_index()"
   ]
  },
  {
   "cell_type": "markdown",
   "metadata": {},
   "source": [
    "Test set labels with respetive uncertainties."
   ]
  },
  {
   "cell_type": "code",
   "execution_count": 24,
   "metadata": {
    "scrolled": true
   },
   "outputs": [],
   "source": [
    "test_y = pd.read_csv(datasets_dr + 'test_data.csv', index_col='ID').iloc[:,-2:].sort_index()"
   ]
  },
  {
   "cell_type": "markdown",
   "metadata": {},
   "source": [
    "Correct index order to compare against later."
   ]
  },
  {
   "cell_type": "code",
   "execution_count": 25,
   "metadata": {},
   "outputs": [],
   "source": [
    "test_ID = test_y.index"
   ]
  },
  {
   "cell_type": "markdown",
   "metadata": {},
   "source": [
    "### Original $\\Delta G_{hydr}$"
   ]
  },
  {
   "cell_type": "code",
   "execution_count": 26,
   "metadata": {
    "scrolled": false
   },
   "outputs": [
    {
     "ename": "NameError",
     "evalue": "name 'calc_mae' is not defined",
     "output_type": "error",
     "traceback": [
      "\u001b[0;31m---------------------------------------------------------------------------\u001b[0m",
      "\u001b[0;31mNameError\u001b[0m                                 Traceback (most recent call last)",
      "\u001b[0;32m<ipython-input-26-083d3d367ba8>\u001b[0m in \u001b[0;36m<module>\u001b[0;34m\u001b[0m\n\u001b[1;32m      4\u001b[0m              \u001b[0mx_label\u001b[0m\u001b[0;34m=\u001b[0m\u001b[0;34m'FEP-predicted $\\Delta G_{hydr}$ / kcal mol$^{-1}$'\u001b[0m\u001b[0;34m,\u001b[0m\u001b[0;34m\u001b[0m\u001b[0m\n\u001b[1;32m      5\u001b[0m              \u001b[0my_label\u001b[0m\u001b[0;34m=\u001b[0m\u001b[0;34m'Experimental $\\Delta G_{hydr}$ / kcal mol$^{-1}$'\u001b[0m\u001b[0;34m,\u001b[0m\u001b[0;34m\u001b[0m\u001b[0m\n\u001b[0;32m----> 6\u001b[0;31m              colour=colour1)\n\u001b[0m",
      "\u001b[0;32m<ipython-input-19-6734075b8230>\u001b[0m in \u001b[0;36mplot_scatter\u001b[0;34m(calc, exp, title, x_label, y_label, colour)\u001b[0m\n\u001b[1;32m     41\u001b[0m \u001b[0;34m\u001b[0m\u001b[0m\n\u001b[1;32m     42\u001b[0m     \u001b[0;31m# Calculate mean absolute error.\u001b[0m\u001b[0;34m\u001b[0m\u001b[0;34m\u001b[0m\u001b[0m\n\u001b[0;32m---> 43\u001b[0;31m     \u001b[0mmae\u001b[0m \u001b[0;34m=\u001b[0m \u001b[0mround\u001b[0m\u001b[0;34m(\u001b[0m\u001b[0mcalc_mae\u001b[0m\u001b[0;34m(\u001b[0m\u001b[0mx\u001b[0m\u001b[0;34m,\u001b[0m \u001b[0my\u001b[0m\u001b[0;34m)\u001b[0m\u001b[0;34m,\u001b[0m \u001b[0;36m3\u001b[0m\u001b[0;34m)\u001b[0m\u001b[0;34m\u001b[0m\u001b[0m\n\u001b[0m\u001b[1;32m     44\u001b[0m \u001b[0;34m\u001b[0m\u001b[0m\n\u001b[1;32m     45\u001b[0m     \u001b[0;31m# Calculate Pearson R.\u001b[0m\u001b[0;34m\u001b[0m\u001b[0;34m\u001b[0m\u001b[0m\n",
      "\u001b[0;31mNameError\u001b[0m: name 'calc_mae' is not defined"
     ]
    },
    {
     "data": {
      "image/png": "[encoded data removed]",
      "text/plain": [
       "<Figure size 504x504 with 1 Axes>"
      ]
     },
     "metadata": {
      "needs_background": "light"
     },
     "output_type": "display_data"
    }
   ],
   "source": [
    "plot_scatter(calc=test_fep,\n",
    "             exp=test_exp,\n",
    "             title='Original test set hydraton free energy',\n",
    "             x_label='FEP-predicted $\\Delta G_{hydr}$ / kcal mol$^{-1}$',\n",
    "             y_label='Experimental $\\Delta G_{hydr}$ / kcal mol$^{-1}$',\n",
    "             colour=colour1)"
   ]
  },
  {
   "cell_type": "markdown",
   "metadata": {},
   "source": [
    "### $\\Delta G_{offset}$ prediction"
   ]
  },
  {
   "cell_type": "code",
   "execution_count": null,
   "metadata": {},
   "outputs": [],
   "source": [
    "def model_predict(model_num, test_entry, *args):\n",
    "    \"\"\"Load model from pickle and return model prediction on a given test_entry.\"\"\"\n",
    "\n",
    "    null = ''\n",
    "    for arg in args:\n",
    "        null = arg + '_'\n",
    "    \n",
    "    with open(output_dr + 'fold_' + str(model_num) + '_' + null + model_type + '_model.pickle', 'rb') as f:\n",
    "        model = pickle.load(f)\n",
    "\n",
    "    return model.predict(test_entry)"
   ]
  },
  {
   "cell_type": "markdown",
   "metadata": {},
   "source": [
    "Predict offset per fold."
   ]
  },
  {
   "cell_type": "code",
   "execution_count": null,
   "metadata": {},
   "outputs": [],
   "source": [
    "predict_per_fold = [model_predict(fold_num, test_X.to_numpy()) for fold_num in range(1, n_splits + 1)]"
   ]
  },
  {
   "cell_type": "markdown",
   "metadata": {},
   "source": [
    "Average predicted offset over all folds and calculate the standard deviation."
   ]
  },
  {
   "cell_type": "code",
   "execution_count": null,
   "metadata": {},
   "outputs": [],
   "source": [
    "predicted_y = pd.DataFrame(data={'Average predicted dGoffset (kcal/mol)': [float(x) for x in np.average(predict_per_fold, axis=0)],\n",
    "                                 'Standard deviation (kcal/mol)': np.std(predict_per_fold, axis=0)},\n",
    "                           index=test_ID)"
   ]
  },
  {
   "cell_type": "code",
   "execution_count": null,
   "metadata": {},
   "outputs": [],
   "source": [
    "plot_scatter(calc=predicted_y,\n",
    "             exp=test_y,\n",
    "             title='SVM-predicted test set offsets',\n",
    "             x_label='ML-predicted $\\Delta G_{offset}$ / kcal mol$^{-1}$',\n",
    "             y_label='Experimental $\\Delta G_{offset}$ / kcal mol$^{-1}$',\n",
    "             colour=colour2)"
   ]
  },
  {
   "cell_type": "markdown",
   "metadata": {},
   "source": [
    "### $\\Delta G_{hydr}$ correction\n",
    "\n",
    "Since,\n",
    "$\\Delta G_{offset} = \\Delta G_{exp} - \\Delta G_{FEP}$\n",
    "\n",
    "$\\therefore \\Delta G_{corrected} = \\Delta G_{FEP} + \\Delta G_{offset}$"
   ]
  },
  {
   "cell_type": "code",
   "execution_count": null,
   "metadata": {},
   "outputs": [],
   "source": [
    "test_corr = pd.DataFrame(data={'FEP+ML dGoffset (kcal/mol)': [fep + offset for fep, offset in zip(test_fep.iloc[:,0], predicted_y.iloc[:,0])],\n",
    "                               'uncertainty (kcal/mol)': [sum_error(x, y) for x, y in zip(predicted_y.iloc[:,1], test_fep.iloc[:,1])]},\n",
    "                         index=test_ID)"
   ]
  },
  {
   "cell_type": "code",
   "execution_count": null,
   "metadata": {
    "scrolled": false
   },
   "outputs": [],
   "source": [
    "plot_scatter(calc=test_corr,\n",
    "             exp=test_exp,\n",
    "             title='FEP+ML corrected test set hydraton free energy',\n",
    "             x_label='ML-corrected $\\Delta G_{hydr}$ / kcal mol$^{-1}$',\n",
    "             y_label='Experimental $\\Delta G_{hydr}$ / kcal mol$^{-1}$',\n",
    "             colour=colour2)"
   ]
  },
  {
   "cell_type": "code",
   "execution_count": null,
   "metadata": {
    "scrolled": false
   },
   "outputs": [],
   "source": [
    "def plot_scatter_with_arrows(calc, exp, offsets, corr):\n",
    "    \"\"\"\n",
    "    Returns and saves several overlayed plots:\n",
    "    1. Uncorrected scatter plot between calculated and experiemntal values.\n",
    "    2. Corrected scatter plot between corrections and experiemntal values.\n",
    "    3. Line of best fit for the aforementioned corrected scatter plot.\n",
    "    4. Arrows in the form of annotations between respective uncorrected and corrected scatter points.\n",
    "    Note: takes pre-defined global variables: linewidth, fontsize, dGhydr_xlim, dGhydr_ylim, markersize, colour1 and colour2,\n",
    "    and pre-defined functions: calc_mae() and calc_pearson_r().\n",
    "    ----------\n",
    "    Parameters\n",
    "    ----------\n",
    "    calc: (DataFrame) calculated data at column index 0 with associated errors at column index 1.\n",
    "    exp: (DataFrame) experimental data at column index 0 with associated errors at column index 1.\n",
    "    offsets: (DataFrame) predicted offsets at column index 0 with associated errors at column index 1.\n",
    "    corr: (DataFrame) corrected calculated data at column index 0 with associated errors at column index 1.\n",
    "    \"\"\"\n",
    "    \n",
    "    # Unpack data.\n",
    "    x_fep = calc.iloc[:,0]\n",
    "    x_ml = corr.iloc[:,0]\n",
    "    y = exp.iloc[:,0]\n",
    "    offset = offsets.iloc[:,0]\n",
    "    \n",
    "    # Setup figure.\n",
    "    fig, ax = plt.subplots(figsize=[14,7])\n",
    "    for axis in ['top','bottom','left','right']: ax.spines[axis].set_linewidth(linewidth)\n",
    "    ax.tick_params(axis='both', which='major', direction='out', length=7, width=linewidth,\n",
    "                   labelsize=fontsize, top=True, right=True, bottom=True, left=True)\n",
    "    ax.set_xlabel('Predicted $\\Delta G_{hydr}$ / kcal mol$^{-1}$', fontsize=fontsize)\n",
    "    ax.set_ylabel('Experimental $\\Delta G_{hydr}$ / kcal mol$^{-1}$', fontsize=fontsize)\n",
    "    ax.set_xlim(dGhydr_xylim)\n",
    "    ax.set_ylim(dGhydr_xylim)\n",
    "    \n",
    "    # Plot FEP vs exp and FEP+ML vs exp.\n",
    "    ax.scatter(x_fep, y, color=colour1, s=markersize, label='FEP')\n",
    "    ax.scatter(x_ml, y, color=colour2, s=markersize, label='FEP+ML')\n",
    "    \n",
    "    # Plot x = y line.\n",
    "    xlin = np.linspace(-100, 100, 200)  # linear x\n",
    "    ylin = np.linspace(-100, 100, 200)  # linear y\n",
    "    ax.plot(xlin, ylin, color='k', linewidth=linewidth)\n",
    "    \n",
    "    # # Uncomment to plot line of best fit.\n",
    "    # ax.plot(np.unique(x_ml),\n",
    "    #     np.poly1d(np.polyfit(x_ml, y, 1))(np.unique(x_ml)),\n",
    "    #      color='black', linewidth=linewidth)\n",
    "    \n",
    "    # Annotate with arrows.\n",
    "    for o, f, e in zip(offset, x_fep, y):\n",
    "        fep_corrected = f + o\n",
    "        fep_offset = e - f\n",
    "        fep_corrected_offset = e - fep_corrected\n",
    "        \n",
    "        if abs(fep_corrected_offset) <= abs(fep_offset):\n",
    "            line_color = \"green\"\n",
    "        else:\n",
    "            line_color = \"red\"\n",
    "            \n",
    "        ax.annotate(\"\", xytext=(f, e), xy=(fep_corrected, e), \n",
    "                     arrowprops=dict(arrowstyle=\"->\", color=line_color))\n",
    "\n",
    "    # create uncertainties.core.Variable for statistical analysis\n",
    "    xu = unumpy.uarray(corr.iloc[:,0], corr.iloc[:,1])\n",
    "    yu = unumpy.uarray(exp.iloc[:,0], exp.iloc[:,1])\n",
    "    \n",
    "    # mean absolute error\n",
    "    mae = calc_mae(xu, yu)\n",
    "    \n",
    "    # Pearson R and R-squared\n",
    "    r_value = calc_pearson_r(xu, yu)\n",
    "\n",
    "    # annotate with r-squared and MAE\n",
    "    string1 = 'MAE\\nR'\n",
    "    string2 = '=\\n='\n",
    "    string3 = '1.17 {} 0.06 {}\\n0.919 {} 0.006'.format('$\\pm$', 'kcal mol$^{-1}$', '$\\pm$')\n",
    "    string4 = '{} {} {}\\n{} {}'.format(r'$\\rightarrow$', mae, 'kcal mol$^{-1}$', r'$\\rightarrow$', r_value).replace('+/-', ' $\\pm$ ')\n",
    "    ax.annotate(string1, xy=(0.0, 1), xytext=(12, -12), va='top',\n",
    "             xycoords='axes fraction', textcoords='offset points',\n",
    "             size=fontsize, color='k')\n",
    "    ax.annotate(string2, xy=(0.0565, 1), xytext=(12, -12), va='top',\n",
    "             xycoords='axes fraction', textcoords='offset points',\n",
    "             size=fontsize, color='k')\n",
    "    ax.annotate(string3, xy=(0.085, 1), xytext=(12, -12), va='top',\n",
    "         xycoords='axes fraction', textcoords='offset points',\n",
    "         size=fontsize, color=colour1)\n",
    "    ax.annotate(string4, xy=(0.365, 1), xytext=(12, -12), va='top',\n",
    "         xycoords='axes fraction', textcoords='offset points',\n",
    "         size=fontsize, color=colour2)\n",
    "\n",
    "    # Create legend.\n",
    "    plt.legend(loc='lower right', fontsize=fontsize, frameon=False, handletextpad=0.1)\n",
    "    \n",
    "    plt.gcf().subplots_adjust(left=0.15)\n",
    "    \n",
    "    # Save figure.\n",
    "    filename = figures_dr + 'offset_mapping_2.png'\n",
    "    plt.savefig(filename, dpi=dpi)\n",
    "    logging.info('Saved {}.'.format(filename))\n",
    "\n",
    "\n",
    "plot_scatter_with_arrows_2(calc=test_fep,\n",
    "                           exp=test_exp,\n",
    "                           offsets=predicted_y,\n",
    "                           corr=test_corr)"
   ]
  },
  {
   "cell_type": "markdown",
   "metadata": {},
   "source": [
    "## Control"
   ]
  },
  {
   "cell_type": "code",
   "execution_count": null,
   "metadata": {
    "scrolled": true
   },
   "outputs": [],
   "source": [
    "null_train_path = datasets_dr + 'null_train_data.csv'\n",
    "null_train_df = pd.read_csv(null_train_path, index_col='ID').iloc[:,:-1]\n",
    "logging.info('Loaded training data from {} removing dGoffset uncertainties column.'.format(null_train_path))\n",
    "null_train_df"
   ]
  },
  {
   "cell_type": "code",
   "execution_count": null,
   "metadata": {},
   "outputs": [],
   "source": [
    "# Call KFolds function.\n",
    "null_kfolds = split_dataset(null_train_df, n_splits, random_state, null_label_col)"
   ]
  },
  {
   "cell_type": "code",
   "execution_count": null,
   "metadata": {
    "scrolled": false
   },
   "outputs": [],
   "source": [
    "# Call train_model and save gp_minimize objects to list.\n",
    "null_gp_results = [train_model(fold, fold_num + 1, 'null') for fold_num, fold in enumerate(null_kfolds)]"
   ]
  },
  {
   "cell_type": "code",
   "execution_count": null,
   "metadata": {},
   "outputs": [],
   "source": [
    "null_mae_logger = output_dr + model_type + '_mae_per_call.csv'\n",
    "null_mae_df = pd.read_csv(null_mae_logger)  # Load previously defined training statistics logger.\n",
    "null_mae_df = null_mae_df.iloc[200:,:]\n",
    "# mae_convergence(null_mae_df)  # Plot convergence plot."
   ]
  },
  {
   "cell_type": "code",
   "execution_count": null,
   "metadata": {},
   "outputs": [],
   "source": [
    "null_test_X = pd.read_csv(datasets_dr + 'null_test_data.csv', index_col='ID').iloc[:,:-2].sort_index()\n",
    "null_test_y = pd.read_csv(datasets_dr + 'null_test_data.csv', index_col='ID').iloc[:,-2:].sort_index()"
   ]
  },
  {
   "cell_type": "code",
   "execution_count": null,
   "metadata": {},
   "outputs": [],
   "source": [
    "null_predict_per_fold = [model_predict(fold_num, null_test_X.to_numpy(), 'null') for fold_num in range(1, n_splits + 1)]\n",
    "null_predicted_y = pd.DataFrame(data={'Average predicted dGhydr (kcal/mol)': [float(x) for x in np.average(null_predict_per_fold, axis=0)],\n",
    "                                      'Standard deviation (kcal/mol)': np.std(null_predict_per_fold, axis=0)},\n",
    "                           index=test_ID)"
   ]
  },
  {
   "cell_type": "code",
   "execution_count": null,
   "metadata": {},
   "outputs": [],
   "source": [
    "plot_scatter(calc=null_predicted_y,\n",
    "             exp=null_test_y,\n",
    "             title='SVM-predicted test set dGhydr',\n",
    "             x_label='SVM-predicted $\\Delta G_{hydr}$ / kcal mol$^{-1}$',\n",
    "             y_label='Experimental $\\Delta G_{hydr}$ / kcal mol$^{-1}$',\n",
    "             colour=colour1)"
   ]
  },
  {
   "cell_type": "markdown",
   "metadata": {},
   "source": [
    "## Removing outlier\n",
    "\n",
    "How does removing mobley_4587267 from the training and testing affect the result?"
   ]
  },
  {
   "cell_type": "code",
   "execution_count": null,
   "metadata": {},
   "outputs": [],
   "source": [
    "outlier = 'mobley_4587267'"
   ]
  },
  {
   "cell_type": "markdown",
   "metadata": {},
   "source": [
    "Perform external testing with outlier removed from all testing sets."
   ]
  },
  {
   "cell_type": "code",
   "execution_count": 47,
   "metadata": {
    "scrolled": true
   },
   "outputs": [],
   "source": [
    "# Remove outlier from all pre-defined DataFrames.\n",
    "test_ID_o = test_ID.drop(outlier)\n",
    "test_X_o = test_X.iloc[test_X.index != outlier, :]\n",
    "test_y_o = test_y.iloc[test_y.index != outlier, :]\n",
    "test_fep_o = test_fep.iloc[test_fep.index != outlier, :]\n",
    "test_exp_o = test_exp.iloc[test_exp.index != outlier, :]\n",
    "\n",
    "# Perform new offset predictions.\n",
    "predict_per_fold_o = [model_predict(fold_num, test_X_o.to_numpy()) for fold_num in range(1, n_splits + 1)]\n",
    "predicted_y_o = pd.DataFrame(data={'Average predicted dGoffset (kcal/mol)': [float(x) for x in np.average(predict_per_fold_o, axis=0)],\n",
    "                                   'Standard deviation (kcal/mol)': np.std(predict_per_fold_o, axis=0)},\n",
    "                             index=test_ID_o)\n",
    "\n",
    "test_corr_o = pd.DataFrame(data={'FEP+ML dGoffset (kcal/mol)': [fep + offset for fep, offset in zip(test_fep_o.iloc[:,0], predicted_y_o.iloc[:,0])],\n",
    "                               'uncertainty (kcal/mol)': [sum_error(x, y) for x, y in zip(predicted_y_o.iloc[:,1], test_fep_o.iloc[:,1])]},\n",
    "                         index=test_ID_o)"
   ]
  },
  {
   "cell_type": "code",
   "execution_count": 207,
   "metadata": {},
   "outputs": [
    {
     "data": {
      "image/png": "[encoded data removed]",
      "text/plain": [
       "<Figure size 504x504 with 1 Axes>"
      ]
     },
     "metadata": {
      "needs_background": "light"
     },
     "output_type": "display_data"
    }
   ],
   "source": [
    "plot_scatter(calc=test_fep_o,\n",
    "             exp=test_exp_o,\n",
    "             title='Original test set hydraton free energy with removed outlier',\n",
    "             x_label='FEP-predicted $\\Delta G_{hydr}$ / kcal mol$^{-1}$',\n",
    "             y_label='Experimental $\\Delta G_{hydr}$ / kcal mol$^{-1}$',\n",
    "             colour=colour1)"
   ]
  },
  {
   "cell_type": "code",
   "execution_count": 208,
   "metadata": {},
   "outputs": [
    {
     "data": {
      "image/png": "[encoded data removed]",
      "text/plain": [
       "<Figure size 504x504 with 1 Axes>"
      ]
     },
     "metadata": {
      "needs_background": "light"
     },
     "output_type": "display_data"
    }
   ],
   "source": [
    "plot_scatter(calc=predicted_y_o,\n",
    "             exp=test_y_o,\n",
    "             title='SVM-predicted test set offsets with removed outlier',\n",
    "             x_label='SVM-predicted $\\Delta G_{offset}$ / kcal mol$^{-1}$',\n",
    "             y_label='Experimental $\\Delta G_{offset}$ / kcal mol$^{-1}$',\n",
    "             colour=colour2)"
   ]
  },
  {
   "cell_type": "code",
   "execution_count": 209,
   "metadata": {},
   "outputs": [
    {
     "data": {
      "image/png": "[encoded data removed]",
      "text/plain": [
       "<Figure size 504x504 with 1 Axes>"
      ]
     },
     "metadata": {
      "needs_background": "light"
     },
     "output_type": "display_data"
    }
   ],
   "source": [
    "plot_scatter(calc=test_corr_o,\n",
    "             exp=test_exp_o,\n",
    "             title='FEP+ML corrected test set hydraton free energy with outlier removed',\n",
    "             x_label='FEP+ML-corrected $\\Delta G_{hydr}$ / kcal mol$^{-1}$',\n",
    "             y_label='Experimental $\\Delta G_{hydr}$ / kcal mol$^{-1}$',\n",
    "             colour=colour2)"
   ]
  },
  {
   "cell_type": "code",
   "execution_count": 210,
   "metadata": {},
   "outputs": [
    {
     "data": {
      "image/png": "[encoded data removed]",
      "text/plain": [
       "<Figure size 504x504 with 1 Axes>"
      ]
     },
     "metadata": {
      "needs_background": "light"
     },
     "output_type": "display_data"
    }
   ],
   "source": [
    "plot_scatter_with_arrows(calc=test_fep_o,\n",
    "                         exp=test_exp_o,\n",
    "                         offsets=predicted_y_o,\n",
    "                         corr=test_corr_o)"
   ]
  },
  {
   "cell_type": "markdown",
   "metadata": {},
   "source": [
    "## Recreating SAMPL4 Figure 1"
   ]
  },
  {
   "cell_type": "code",
   "execution_count": 52,
   "metadata": {
    "scrolled": true
   },
   "outputs": [
    {
     "data": {
      "text/html": [
       "<div>\n",
       "<style scoped>\n",
       "    .dataframe tbody tr th:only-of-type {\n",
       "        vertical-align: middle;\n",
       "    }\n",
       "\n",
       "    .dataframe tbody tr th {\n",
       "        vertical-align: top;\n",
       "    }\n",
       "\n",
       "    .dataframe thead th {\n",
       "        text-align: right;\n",
       "    }\n",
       "</style>\n",
       "<table border=\"1\" class=\"dataframe\">\n",
       "  <thead>\n",
       "    <tr style=\"text-align: right;\">\n",
       "      <th></th>\n",
       "      <th>Avg. err.</th>\n",
       "      <th>error</th>\n",
       "      <th>RMS</th>\n",
       "      <th>error1</th>\n",
       "      <th>AUE</th>\n",
       "      <th>error2</th>\n",
       "      <th>tau</th>\n",
       "      <th>error3</th>\n",
       "      <th>R</th>\n",
       "      <th>error4</th>\n",
       "      <th>Err. slope</th>\n",
       "      <th>error5</th>\n",
       "      <th>Max. err.</th>\n",
       "      <th>error6</th>\n",
       "    </tr>\n",
       "    <tr>\n",
       "      <th>ID</th>\n",
       "      <th></th>\n",
       "      <th></th>\n",
       "      <th></th>\n",
       "      <th></th>\n",
       "      <th></th>\n",
       "      <th></th>\n",
       "      <th></th>\n",
       "      <th></th>\n",
       "      <th></th>\n",
       "      <th></th>\n",
       "      <th></th>\n",
       "      <th></th>\n",
       "      <th></th>\n",
       "      <th></th>\n",
       "    </tr>\n",
       "  </thead>\n",
       "  <tbody>\n",
       "    <tr>\n",
       "      <td>004</td>\n",
       "      <td>0.13</td>\n",
       "      <td>0.13</td>\n",
       "      <td>1.40</td>\n",
       "      <td>0.12</td>\n",
       "      <td>1.10</td>\n",
       "      <td>0.10</td>\n",
       "      <td>0.73</td>\n",
       "      <td>0.06</td>\n",
       "      <td>0.93</td>\n",
       "      <td>0.02</td>\n",
       "      <td>0.99</td>\n",
       "      <td>0.07</td>\n",
       "      <td>4.98</td>\n",
       "      <td>0.47</td>\n",
       "    </tr>\n",
       "    <tr>\n",
       "      <td>005</td>\n",
       "      <td>-0.42</td>\n",
       "      <td>0.18</td>\n",
       "      <td>1.22</td>\n",
       "      <td>0.15</td>\n",
       "      <td>0.96</td>\n",
       "      <td>0.12</td>\n",
       "      <td>0.78</td>\n",
       "      <td>0.06</td>\n",
       "      <td>0.96</td>\n",
       "      <td>0.01</td>\n",
       "      <td>1.06</td>\n",
       "      <td>0.05</td>\n",
       "      <td>1.81</td>\n",
       "      <td>0.67</td>\n",
       "    </tr>\n",
       "    <tr>\n",
       "      <td>014</td>\n",
       "      <td>1.11</td>\n",
       "      <td>0.57</td>\n",
       "      <td>3.07</td>\n",
       "      <td>0.72</td>\n",
       "      <td>1.90</td>\n",
       "      <td>0.51</td>\n",
       "      <td>0.36</td>\n",
       "      <td>0.15</td>\n",
       "      <td>0.71</td>\n",
       "      <td>0.26</td>\n",
       "      <td>1.01</td>\n",
       "      <td>0.10</td>\n",
       "      <td>10.69</td>\n",
       "      <td>0.70</td>\n",
       "    </tr>\n",
       "    <tr>\n",
       "      <td>015</td>\n",
       "      <td>1.02</td>\n",
       "      <td>0.49</td>\n",
       "      <td>3.09</td>\n",
       "      <td>0.46</td>\n",
       "      <td>2.02</td>\n",
       "      <td>0.34</td>\n",
       "      <td>0.36</td>\n",
       "      <td>0.09</td>\n",
       "      <td>0.65</td>\n",
       "      <td>0.20</td>\n",
       "      <td>1.00</td>\n",
       "      <td>0.07</td>\n",
       "      <td>10.37</td>\n",
       "      <td>0.42</td>\n",
       "    </tr>\n",
       "    <tr>\n",
       "      <td>137</td>\n",
       "      <td>2.24</td>\n",
       "      <td>0.23</td>\n",
       "      <td>2.89</td>\n",
       "      <td>0.30</td>\n",
       "      <td>2.48</td>\n",
       "      <td>0.20</td>\n",
       "      <td>0.70</td>\n",
       "      <td>0.06</td>\n",
       "      <td>0.89</td>\n",
       "      <td>0.03</td>\n",
       "      <td>0.70</td>\n",
       "      <td>0.08</td>\n",
       "      <td>8.38</td>\n",
       "      <td>0.50</td>\n",
       "    </tr>\n",
       "    <tr>\n",
       "      <td>138</td>\n",
       "      <td>0.51</td>\n",
       "      <td>0.29</td>\n",
       "      <td>2.00</td>\n",
       "      <td>0.23</td>\n",
       "      <td>1.66</td>\n",
       "      <td>0.20</td>\n",
       "      <td>0.65</td>\n",
       "      <td>0.06</td>\n",
       "      <td>0.90</td>\n",
       "      <td>0.05</td>\n",
       "      <td>0.57</td>\n",
       "      <td>0.08</td>\n",
       "      <td>5.25</td>\n",
       "      <td>0.23</td>\n",
       "    </tr>\n",
       "    <tr>\n",
       "      <td>141</td>\n",
       "      <td>-0.07</td>\n",
       "      <td>0.28</td>\n",
       "      <td>1.46</td>\n",
       "      <td>0.18</td>\n",
       "      <td>1.07</td>\n",
       "      <td>0.11</td>\n",
       "      <td>0.74</td>\n",
       "      <td>0.07</td>\n",
       "      <td>0.93</td>\n",
       "      <td>0.02</td>\n",
       "      <td>0.72</td>\n",
       "      <td>0.08</td>\n",
       "      <td>6.02</td>\n",
       "      <td>0.46</td>\n",
       "    </tr>\n",
       "    <tr>\n",
       "      <td>145</td>\n",
       "      <td>-0.44</td>\n",
       "      <td>0.16</td>\n",
       "      <td>1.23</td>\n",
       "      <td>0.16</td>\n",
       "      <td>0.87</td>\n",
       "      <td>0.09</td>\n",
       "      <td>0.81</td>\n",
       "      <td>0.03</td>\n",
       "      <td>0.98</td>\n",
       "      <td>0.01</td>\n",
       "      <td>0.86</td>\n",
       "      <td>0.08</td>\n",
       "      <td>1.24</td>\n",
       "      <td>0.89</td>\n",
       "    </tr>\n",
       "    <tr>\n",
       "      <td>149</td>\n",
       "      <td>0.03</td>\n",
       "      <td>0.24</td>\n",
       "      <td>1.46</td>\n",
       "      <td>0.14</td>\n",
       "      <td>1.12</td>\n",
       "      <td>0.12</td>\n",
       "      <td>0.73</td>\n",
       "      <td>0.05</td>\n",
       "      <td>0.94</td>\n",
       "      <td>0.02</td>\n",
       "      <td>0.55</td>\n",
       "      <td>0.04</td>\n",
       "      <td>2.74</td>\n",
       "      <td>0.89</td>\n",
       "    </tr>\n",
       "    <tr>\n",
       "      <td>152</td>\n",
       "      <td>-3.48</td>\n",
       "      <td>0.98</td>\n",
       "      <td>5.52</td>\n",
       "      <td>1.25</td>\n",
       "      <td>4.05</td>\n",
       "      <td>0.85</td>\n",
       "      <td>0.39</td>\n",
       "      <td>0.08</td>\n",
       "      <td>0.57</td>\n",
       "      <td>0.17</td>\n",
       "      <td>0.31</td>\n",
       "      <td>0.06</td>\n",
       "      <td>3.93</td>\n",
       "      <td>3.84</td>\n",
       "    </tr>\n",
       "    <tr>\n",
       "      <td>153</td>\n",
       "      <td>-2.35</td>\n",
       "      <td>0.52</td>\n",
       "      <td>3.95</td>\n",
       "      <td>0.40</td>\n",
       "      <td>3.07</td>\n",
       "      <td>0.41</td>\n",
       "      <td>0.49</td>\n",
       "      <td>0.04</td>\n",
       "      <td>0.75</td>\n",
       "      <td>0.10</td>\n",
       "      <td>0.57</td>\n",
       "      <td>0.06</td>\n",
       "      <td>2.95</td>\n",
       "      <td>0.77</td>\n",
       "    </tr>\n",
       "    <tr>\n",
       "      <td>158</td>\n",
       "      <td>0.55</td>\n",
       "      <td>1.76</td>\n",
       "      <td>10.14</td>\n",
       "      <td>1.91</td>\n",
       "      <td>7.23</td>\n",
       "      <td>1.09</td>\n",
       "      <td>0.63</td>\n",
       "      <td>0.05</td>\n",
       "      <td>0.48</td>\n",
       "      <td>0.08</td>\n",
       "      <td>0.09</td>\n",
       "      <td>0.02</td>\n",
       "      <td>9.29</td>\n",
       "      <td>6.10</td>\n",
       "    </tr>\n",
       "    <tr>\n",
       "      <td>166</td>\n",
       "      <td>-0.38</td>\n",
       "      <td>0.22</td>\n",
       "      <td>1.58</td>\n",
       "      <td>0.09</td>\n",
       "      <td>1.24</td>\n",
       "      <td>0.08</td>\n",
       "      <td>0.70</td>\n",
       "      <td>0.05</td>\n",
       "      <td>0.92</td>\n",
       "      <td>0.05</td>\n",
       "      <td>1.28</td>\n",
       "      <td>0.03</td>\n",
       "      <td>3.55</td>\n",
       "      <td>0.33</td>\n",
       "    </tr>\n",
       "    <tr>\n",
       "      <td>167</td>\n",
       "      <td>-0.41</td>\n",
       "      <td>0.52</td>\n",
       "      <td>4.48</td>\n",
       "      <td>1.20</td>\n",
       "      <td>2.15</td>\n",
       "      <td>0.61</td>\n",
       "      <td>0.49</td>\n",
       "      <td>0.12</td>\n",
       "      <td>0.57</td>\n",
       "      <td>0.14</td>\n",
       "      <td>1.20</td>\n",
       "      <td>0.08</td>\n",
       "      <td>4.94</td>\n",
       "      <td>3.18</td>\n",
       "    </tr>\n",
       "    <tr>\n",
       "      <td>168</td>\n",
       "      <td>-0.42</td>\n",
       "      <td>0.89</td>\n",
       "      <td>4.53</td>\n",
       "      <td>1.49</td>\n",
       "      <td>2.22</td>\n",
       "      <td>0.72</td>\n",
       "      <td>0.49</td>\n",
       "      <td>0.11</td>\n",
       "      <td>0.56</td>\n",
       "      <td>0.17</td>\n",
       "      <td>1.18</td>\n",
       "      <td>0.08</td>\n",
       "      <td>4.91</td>\n",
       "      <td>5.36</td>\n",
       "    </tr>\n",
       "    <tr>\n",
       "      <td>169</td>\n",
       "      <td>-0.53</td>\n",
       "      <td>0.29</td>\n",
       "      <td>2.32</td>\n",
       "      <td>0.32</td>\n",
       "      <td>1.75</td>\n",
       "      <td>0.24</td>\n",
       "      <td>0.51</td>\n",
       "      <td>0.10</td>\n",
       "      <td>0.83</td>\n",
       "      <td>0.07</td>\n",
       "      <td>1.15</td>\n",
       "      <td>0.06</td>\n",
       "      <td>4.26</td>\n",
       "      <td>1.42</td>\n",
       "    </tr>\n",
       "    <tr>\n",
       "      <td>178</td>\n",
       "      <td>0.25</td>\n",
       "      <td>0.17</td>\n",
       "      <td>1.52</td>\n",
       "      <td>0.11</td>\n",
       "      <td>1.28</td>\n",
       "      <td>0.11</td>\n",
       "      <td>0.71</td>\n",
       "      <td>0.05</td>\n",
       "      <td>0.93</td>\n",
       "      <td>0.02</td>\n",
       "      <td>1.32</td>\n",
       "      <td>0.03</td>\n",
       "      <td>3.42</td>\n",
       "      <td>0.16</td>\n",
       "    </tr>\n",
       "    <tr>\n",
       "      <td>179</td>\n",
       "      <td>0.24</td>\n",
       "      <td>0.29</td>\n",
       "      <td>1.55</td>\n",
       "      <td>0.20</td>\n",
       "      <td>1.23</td>\n",
       "      <td>0.16</td>\n",
       "      <td>0.68</td>\n",
       "      <td>0.07</td>\n",
       "      <td>0.92</td>\n",
       "      <td>0.02</td>\n",
       "      <td>1.27</td>\n",
       "      <td>0.04</td>\n",
       "      <td>4.42</td>\n",
       "      <td>0.39</td>\n",
       "    </tr>\n",
       "    <tr>\n",
       "      <td>180</td>\n",
       "      <td>-0.73</td>\n",
       "      <td>0.18</td>\n",
       "      <td>1.96</td>\n",
       "      <td>0.24</td>\n",
       "      <td>1.54</td>\n",
       "      <td>0.17</td>\n",
       "      <td>0.66</td>\n",
       "      <td>0.07</td>\n",
       "      <td>0.94</td>\n",
       "      <td>0.03</td>\n",
       "      <td>1.32</td>\n",
       "      <td>0.04</td>\n",
       "      <td>2.36</td>\n",
       "      <td>0.86</td>\n",
       "    </tr>\n",
       "    <tr>\n",
       "      <td>181</td>\n",
       "      <td>-0.49</td>\n",
       "      <td>0.23</td>\n",
       "      <td>1.55</td>\n",
       "      <td>0.13</td>\n",
       "      <td>1.24</td>\n",
       "      <td>0.12</td>\n",
       "      <td>0.69</td>\n",
       "      <td>0.08</td>\n",
       "      <td>0.94</td>\n",
       "      <td>0.04</td>\n",
       "      <td>1.31</td>\n",
       "      <td>0.04</td>\n",
       "      <td>3.19</td>\n",
       "      <td>0.74</td>\n",
       "    </tr>\n",
       "    <tr>\n",
       "      <td>189</td>\n",
       "      <td>0.28</td>\n",
       "      <td>0.39</td>\n",
       "      <td>2.74</td>\n",
       "      <td>0.43</td>\n",
       "      <td>1.95</td>\n",
       "      <td>0.28</td>\n",
       "      <td>0.49</td>\n",
       "      <td>0.11</td>\n",
       "      <td>0.76</td>\n",
       "      <td>0.14</td>\n",
       "      <td>1.13</td>\n",
       "      <td>0.06</td>\n",
       "      <td>8.72</td>\n",
       "      <td>1.33</td>\n",
       "    </tr>\n",
       "    <tr>\n",
       "      <td>196</td>\n",
       "      <td>0.78</td>\n",
       "      <td>1.36</td>\n",
       "      <td>9.88</td>\n",
       "      <td>1.89</td>\n",
       "      <td>7.17</td>\n",
       "      <td>1.19</td>\n",
       "      <td>0.64</td>\n",
       "      <td>0.03</td>\n",
       "      <td>0.44</td>\n",
       "      <td>0.08</td>\n",
       "      <td>0.11</td>\n",
       "      <td>0.01</td>\n",
       "      <td>9.29</td>\n",
       "      <td>8.23</td>\n",
       "    </tr>\n",
       "    <tr>\n",
       "      <td>197</td>\n",
       "      <td>0.87</td>\n",
       "      <td>0.97</td>\n",
       "      <td>10.60</td>\n",
       "      <td>1.15</td>\n",
       "      <td>7.74</td>\n",
       "      <td>0.68</td>\n",
       "      <td>0.62</td>\n",
       "      <td>0.05</td>\n",
       "      <td>0.38</td>\n",
       "      <td>0.07</td>\n",
       "      <td>0.04</td>\n",
       "      <td>0.01</td>\n",
       "      <td>10.29</td>\n",
       "      <td>2.07</td>\n",
       "    </tr>\n",
       "    <tr>\n",
       "      <td>529</td>\n",
       "      <td>0.26</td>\n",
       "      <td>0.30</td>\n",
       "      <td>2.39</td>\n",
       "      <td>0.34</td>\n",
       "      <td>1.82</td>\n",
       "      <td>0.25</td>\n",
       "      <td>0.60</td>\n",
       "      <td>0.07</td>\n",
       "      <td>0.85</td>\n",
       "      <td>0.05</td>\n",
       "      <td>1.13</td>\n",
       "      <td>0.05</td>\n",
       "      <td>6.83</td>\n",
       "      <td>0.69</td>\n",
       "    </tr>\n",
       "    <tr>\n",
       "      <td>542</td>\n",
       "      <td>-0.10</td>\n",
       "      <td>0.29</td>\n",
       "      <td>1.89</td>\n",
       "      <td>0.26</td>\n",
       "      <td>1.30</td>\n",
       "      <td>0.18</td>\n",
       "      <td>0.64</td>\n",
       "      <td>0.07</td>\n",
       "      <td>0.90</td>\n",
       "      <td>0.07</td>\n",
       "      <td>1.04</td>\n",
       "      <td>0.04</td>\n",
       "      <td>5.24</td>\n",
       "      <td>0.26</td>\n",
       "    </tr>\n",
       "    <tr>\n",
       "      <td>543</td>\n",
       "      <td>0.35</td>\n",
       "      <td>0.18</td>\n",
       "      <td>1.80</td>\n",
       "      <td>0.22</td>\n",
       "      <td>1.35</td>\n",
       "      <td>0.15</td>\n",
       "      <td>0.64</td>\n",
       "      <td>0.05</td>\n",
       "      <td>0.90</td>\n",
       "      <td>0.06</td>\n",
       "      <td>0.98</td>\n",
       "      <td>0.04</td>\n",
       "      <td>5.44</td>\n",
       "      <td>0.92</td>\n",
       "    </tr>\n",
       "    <tr>\n",
       "      <td>544</td>\n",
       "      <td>0.37</td>\n",
       "      <td>0.18</td>\n",
       "      <td>1.26</td>\n",
       "      <td>0.15</td>\n",
       "      <td>1.00</td>\n",
       "      <td>0.09</td>\n",
       "      <td>0.77</td>\n",
       "      <td>0.03</td>\n",
       "      <td>0.95</td>\n",
       "      <td>0.01</td>\n",
       "      <td>1.12</td>\n",
       "      <td>0.04</td>\n",
       "      <td>4.22</td>\n",
       "      <td>0.20</td>\n",
       "    </tr>\n",
       "    <tr>\n",
       "      <td>545</td>\n",
       "      <td>1.04</td>\n",
       "      <td>0.25</td>\n",
       "      <td>2.96</td>\n",
       "      <td>0.28</td>\n",
       "      <td>2.32</td>\n",
       "      <td>0.21</td>\n",
       "      <td>0.47</td>\n",
       "      <td>0.11</td>\n",
       "      <td>0.73</td>\n",
       "      <td>0.13</td>\n",
       "      <td>0.64</td>\n",
       "      <td>0.07</td>\n",
       "      <td>8.02</td>\n",
       "      <td>1.73</td>\n",
       "    </tr>\n",
       "    <tr>\n",
       "      <td>548</td>\n",
       "      <td>1.29</td>\n",
       "      <td>0.31</td>\n",
       "      <td>2.80</td>\n",
       "      <td>0.49</td>\n",
       "      <td>2.08</td>\n",
       "      <td>0.31</td>\n",
       "      <td>0.54</td>\n",
       "      <td>0.11</td>\n",
       "      <td>0.83</td>\n",
       "      <td>0.13</td>\n",
       "      <td>0.57</td>\n",
       "      <td>0.07</td>\n",
       "      <td>9.22</td>\n",
       "      <td>0.91</td>\n",
       "    </tr>\n",
       "    <tr>\n",
       "      <td>561</td>\n",
       "      <td>-0.22</td>\n",
       "      <td>0.26</td>\n",
       "      <td>1.58</td>\n",
       "      <td>0.34</td>\n",
       "      <td>1.08</td>\n",
       "      <td>0.19</td>\n",
       "      <td>0.77</td>\n",
       "      <td>0.03</td>\n",
       "      <td>0.94</td>\n",
       "      <td>0.02</td>\n",
       "      <td>1.23</td>\n",
       "      <td>0.04</td>\n",
       "      <td>2.60</td>\n",
       "      <td>1.47</td>\n",
       "    </tr>\n",
       "    <tr>\n",
       "      <td>562</td>\n",
       "      <td>0.67</td>\n",
       "      <td>0.21</td>\n",
       "      <td>1.68</td>\n",
       "      <td>0.13</td>\n",
       "      <td>1.45</td>\n",
       "      <td>0.13</td>\n",
       "      <td>0.73</td>\n",
       "      <td>0.06</td>\n",
       "      <td>0.92</td>\n",
       "      <td>0.02</td>\n",
       "      <td>1.01</td>\n",
       "      <td>0.06</td>\n",
       "      <td>3.66</td>\n",
       "      <td>0.60</td>\n",
       "    </tr>\n",
       "    <tr>\n",
       "      <td>563</td>\n",
       "      <td>-0.16</td>\n",
       "      <td>0.26</td>\n",
       "      <td>2.49</td>\n",
       "      <td>0.28</td>\n",
       "      <td>1.87</td>\n",
       "      <td>0.23</td>\n",
       "      <td>0.50</td>\n",
       "      <td>0.09</td>\n",
       "      <td>0.78</td>\n",
       "      <td>0.03</td>\n",
       "      <td>0.95</td>\n",
       "      <td>0.09</td>\n",
       "      <td>7.30</td>\n",
       "      <td>0.40</td>\n",
       "    </tr>\n",
       "    <tr>\n",
       "      <td>564</td>\n",
       "      <td>0.26</td>\n",
       "      <td>0.29</td>\n",
       "      <td>2.82</td>\n",
       "      <td>0.34</td>\n",
       "      <td>2.21</td>\n",
       "      <td>0.25</td>\n",
       "      <td>0.43</td>\n",
       "      <td>0.11</td>\n",
       "      <td>0.77</td>\n",
       "      <td>0.08</td>\n",
       "      <td>0.85</td>\n",
       "      <td>0.04</td>\n",
       "      <td>8.66</td>\n",
       "      <td>1.14</td>\n",
       "    </tr>\n",
       "    <tr>\n",
       "      <td>565</td>\n",
       "      <td>0.48</td>\n",
       "      <td>0.17</td>\n",
       "      <td>1.30</td>\n",
       "      <td>0.20</td>\n",
       "      <td>0.98</td>\n",
       "      <td>0.15</td>\n",
       "      <td>0.77</td>\n",
       "      <td>0.04</td>\n",
       "      <td>0.95</td>\n",
       "      <td>0.02</td>\n",
       "      <td>0.93</td>\n",
       "      <td>0.05</td>\n",
       "      <td>4.34</td>\n",
       "      <td>0.47</td>\n",
       "    </tr>\n",
       "    <tr>\n",
       "      <td>566</td>\n",
       "      <td>0.34</td>\n",
       "      <td>0.14</td>\n",
       "      <td>1.23</td>\n",
       "      <td>0.16</td>\n",
       "      <td>0.94</td>\n",
       "      <td>0.11</td>\n",
       "      <td>0.78</td>\n",
       "      <td>0.04</td>\n",
       "      <td>0.95</td>\n",
       "      <td>0.01</td>\n",
       "      <td>0.95</td>\n",
       "      <td>0.07</td>\n",
       "      <td>4.22</td>\n",
       "      <td>0.25</td>\n",
       "    </tr>\n",
       "    <tr>\n",
       "      <td>567</td>\n",
       "      <td>-0.69</td>\n",
       "      <td>0.21</td>\n",
       "      <td>2.34</td>\n",
       "      <td>0.32</td>\n",
       "      <td>1.72</td>\n",
       "      <td>0.19</td>\n",
       "      <td>0.63</td>\n",
       "      <td>0.05</td>\n",
       "      <td>0.83</td>\n",
       "      <td>0.04</td>\n",
       "      <td>0.62</td>\n",
       "      <td>0.09</td>\n",
       "      <td>9.72</td>\n",
       "      <td>0.61</td>\n",
       "    </tr>\n",
       "    <tr>\n",
       "      <td>568</td>\n",
       "      <td>-0.87</td>\n",
       "      <td>0.18</td>\n",
       "      <td>1.56</td>\n",
       "      <td>0.11</td>\n",
       "      <td>1.21</td>\n",
       "      <td>0.11</td>\n",
       "      <td>0.76</td>\n",
       "      <td>0.05</td>\n",
       "      <td>0.94</td>\n",
       "      <td>0.02</td>\n",
       "      <td>0.83</td>\n",
       "      <td>0.05</td>\n",
       "      <td>2.72</td>\n",
       "      <td>0.15</td>\n",
       "    </tr>\n",
       "    <tr>\n",
       "      <td>570</td>\n",
       "      <td>-2.48</td>\n",
       "      <td>0.33</td>\n",
       "      <td>3.27</td>\n",
       "      <td>0.41</td>\n",
       "      <td>2.53</td>\n",
       "      <td>0.31</td>\n",
       "      <td>0.72</td>\n",
       "      <td>0.05</td>\n",
       "      <td>0.88</td>\n",
       "      <td>0.04</td>\n",
       "      <td>0.36</td>\n",
       "      <td>0.05</td>\n",
       "      <td>0.55</td>\n",
       "      <td>0.57</td>\n",
       "    </tr>\n",
       "    <tr>\n",
       "      <td>572</td>\n",
       "      <td>-0.68</td>\n",
       "      <td>0.18</td>\n",
       "      <td>2.24</td>\n",
       "      <td>0.32</td>\n",
       "      <td>1.64</td>\n",
       "      <td>0.22</td>\n",
       "      <td>0.63</td>\n",
       "      <td>0.09</td>\n",
       "      <td>0.84</td>\n",
       "      <td>0.03</td>\n",
       "      <td>0.66</td>\n",
       "      <td>0.07</td>\n",
       "      <td>9.12</td>\n",
       "      <td>0.24</td>\n",
       "    </tr>\n",
       "    <tr>\n",
       "      <td>573</td>\n",
       "      <td>-0.85</td>\n",
       "      <td>0.16</td>\n",
       "      <td>1.46</td>\n",
       "      <td>0.13</td>\n",
       "      <td>1.15</td>\n",
       "      <td>0.12</td>\n",
       "      <td>0.78</td>\n",
       "      <td>0.06</td>\n",
       "      <td>0.95</td>\n",
       "      <td>0.03</td>\n",
       "      <td>0.83</td>\n",
       "      <td>0.07</td>\n",
       "      <td>1.92</td>\n",
       "      <td>0.54</td>\n",
       "    </tr>\n",
       "    <tr>\n",
       "      <td>575</td>\n",
       "      <td>-0.81</td>\n",
       "      <td>0.25</td>\n",
       "      <td>2.11</td>\n",
       "      <td>0.35</td>\n",
       "      <td>1.59</td>\n",
       "      <td>0.19</td>\n",
       "      <td>0.67</td>\n",
       "      <td>0.09</td>\n",
       "      <td>0.89</td>\n",
       "      <td>0.05</td>\n",
       "      <td>0.60</td>\n",
       "      <td>0.07</td>\n",
       "      <td>3.16</td>\n",
       "      <td>1.33</td>\n",
       "    </tr>\n",
       "    <tr>\n",
       "      <td>582</td>\n",
       "      <td>0.27</td>\n",
       "      <td>1.01</td>\n",
       "      <td>4.50</td>\n",
       "      <td>0.79</td>\n",
       "      <td>3.25</td>\n",
       "      <td>0.59</td>\n",
       "      <td>0.67</td>\n",
       "      <td>0.11</td>\n",
       "      <td>0.84</td>\n",
       "      <td>0.05</td>\n",
       "      <td>0.55</td>\n",
       "      <td>0.09</td>\n",
       "      <td>8.50</td>\n",
       "      <td>2.49</td>\n",
       "    </tr>\n",
       "  </tbody>\n",
       "</table>\n",
       "</div>"
      ],
      "text/plain": [
       "     Avg. err.  error    RMS  error1   AUE  error2   tau  error3     R  \\\n",
       "ID                                                                       \n",
       "004       0.13   0.13   1.40    0.12  1.10    0.10  0.73    0.06  0.93   \n",
       "005      -0.42   0.18   1.22    0.15  0.96    0.12  0.78    0.06  0.96   \n",
       "014       1.11   0.57   3.07    0.72  1.90    0.51  0.36    0.15  0.71   \n",
       "015       1.02   0.49   3.09    0.46  2.02    0.34  0.36    0.09  0.65   \n",
       "137       2.24   0.23   2.89    0.30  2.48    0.20  0.70    0.06  0.89   \n",
       "138       0.51   0.29   2.00    0.23  1.66    0.20  0.65    0.06  0.90   \n",
       "141      -0.07   0.28   1.46    0.18  1.07    0.11  0.74    0.07  0.93   \n",
       "145      -0.44   0.16   1.23    0.16  0.87    0.09  0.81    0.03  0.98   \n",
       "149       0.03   0.24   1.46    0.14  1.12    0.12  0.73    0.05  0.94   \n",
       "152      -3.48   0.98   5.52    1.25  4.05    0.85  0.39    0.08  0.57   \n",
       "153      -2.35   0.52   3.95    0.40  3.07    0.41  0.49    0.04  0.75   \n",
       "158       0.55   1.76  10.14    1.91  7.23    1.09  0.63    0.05  0.48   \n",
       "166      -0.38   0.22   1.58    0.09  1.24    0.08  0.70    0.05  0.92   \n",
       "167      -0.41   0.52   4.48    1.20  2.15    0.61  0.49    0.12  0.57   \n",
       "168      -0.42   0.89   4.53    1.49  2.22    0.72  0.49    0.11  0.56   \n",
       "169      -0.53   0.29   2.32    0.32  1.75    0.24  0.51    0.10  0.83   \n",
       "178       0.25   0.17   1.52    0.11  1.28    0.11  0.71    0.05  0.93   \n",
       "179       0.24   0.29   1.55    0.20  1.23    0.16  0.68    0.07  0.92   \n",
       "180      -0.73   0.18   1.96    0.24  1.54    0.17  0.66    0.07  0.94   \n",
       "181      -0.49   0.23   1.55    0.13  1.24    0.12  0.69    0.08  0.94   \n",
       "189       0.28   0.39   2.74    0.43  1.95    0.28  0.49    0.11  0.76   \n",
       "196       0.78   1.36   9.88    1.89  7.17    1.19  0.64    0.03  0.44   \n",
       "197       0.87   0.97  10.60    1.15  7.74    0.68  0.62    0.05  0.38   \n",
       "529       0.26   0.30   2.39    0.34  1.82    0.25  0.60    0.07  0.85   \n",
       "542      -0.10   0.29   1.89    0.26  1.30    0.18  0.64    0.07  0.90   \n",
       "543       0.35   0.18   1.80    0.22  1.35    0.15  0.64    0.05  0.90   \n",
       "544       0.37   0.18   1.26    0.15  1.00    0.09  0.77    0.03  0.95   \n",
       "545       1.04   0.25   2.96    0.28  2.32    0.21  0.47    0.11  0.73   \n",
       "548       1.29   0.31   2.80    0.49  2.08    0.31  0.54    0.11  0.83   \n",
       "561      -0.22   0.26   1.58    0.34  1.08    0.19  0.77    0.03  0.94   \n",
       "562       0.67   0.21   1.68    0.13  1.45    0.13  0.73    0.06  0.92   \n",
       "563      -0.16   0.26   2.49    0.28  1.87    0.23  0.50    0.09  0.78   \n",
       "564       0.26   0.29   2.82    0.34  2.21    0.25  0.43    0.11  0.77   \n",
       "565       0.48   0.17   1.30    0.20  0.98    0.15  0.77    0.04  0.95   \n",
       "566       0.34   0.14   1.23    0.16  0.94    0.11  0.78    0.04  0.95   \n",
       "567      -0.69   0.21   2.34    0.32  1.72    0.19  0.63    0.05  0.83   \n",
       "568      -0.87   0.18   1.56    0.11  1.21    0.11  0.76    0.05  0.94   \n",
       "570      -2.48   0.33   3.27    0.41  2.53    0.31  0.72    0.05  0.88   \n",
       "572      -0.68   0.18   2.24    0.32  1.64    0.22  0.63    0.09  0.84   \n",
       "573      -0.85   0.16   1.46    0.13  1.15    0.12  0.78    0.06  0.95   \n",
       "575      -0.81   0.25   2.11    0.35  1.59    0.19  0.67    0.09  0.89   \n",
       "582       0.27   1.01   4.50    0.79  3.25    0.59  0.67    0.11  0.84   \n",
       "\n",
       "     error4  Err. slope  error5  Max. err.  error6  \n",
       "ID                                                  \n",
       "004    0.02        0.99    0.07       4.98    0.47  \n",
       "005    0.01        1.06    0.05       1.81    0.67  \n",
       "014    0.26        1.01    0.10      10.69    0.70  \n",
       "015    0.20        1.00    0.07      10.37    0.42  \n",
       "137    0.03        0.70    0.08       8.38    0.50  \n",
       "138    0.05        0.57    0.08       5.25    0.23  \n",
       "141    0.02        0.72    0.08       6.02    0.46  \n",
       "145    0.01        0.86    0.08       1.24    0.89  \n",
       "149    0.02        0.55    0.04       2.74    0.89  \n",
       "152    0.17        0.31    0.06       3.93    3.84  \n",
       "153    0.10        0.57    0.06       2.95    0.77  \n",
       "158    0.08        0.09    0.02       9.29    6.10  \n",
       "166    0.05        1.28    0.03       3.55    0.33  \n",
       "167    0.14        1.20    0.08       4.94    3.18  \n",
       "168    0.17        1.18    0.08       4.91    5.36  \n",
       "169    0.07        1.15    0.06       4.26    1.42  \n",
       "178    0.02        1.32    0.03       3.42    0.16  \n",
       "179    0.02        1.27    0.04       4.42    0.39  \n",
       "180    0.03        1.32    0.04       2.36    0.86  \n",
       "181    0.04        1.31    0.04       3.19    0.74  \n",
       "189    0.14        1.13    0.06       8.72    1.33  \n",
       "196    0.08        0.11    0.01       9.29    8.23  \n",
       "197    0.07        0.04    0.01      10.29    2.07  \n",
       "529    0.05        1.13    0.05       6.83    0.69  \n",
       "542    0.07        1.04    0.04       5.24    0.26  \n",
       "543    0.06        0.98    0.04       5.44    0.92  \n",
       "544    0.01        1.12    0.04       4.22    0.20  \n",
       "545    0.13        0.64    0.07       8.02    1.73  \n",
       "548    0.13        0.57    0.07       9.22    0.91  \n",
       "561    0.02        1.23    0.04       2.60    1.47  \n",
       "562    0.02        1.01    0.06       3.66    0.60  \n",
       "563    0.03        0.95    0.09       7.30    0.40  \n",
       "564    0.08        0.85    0.04       8.66    1.14  \n",
       "565    0.02        0.93    0.05       4.34    0.47  \n",
       "566    0.01        0.95    0.07       4.22    0.25  \n",
       "567    0.04        0.62    0.09       9.72    0.61  \n",
       "568    0.02        0.83    0.05       2.72    0.15  \n",
       "570    0.04        0.36    0.05       0.55    0.57  \n",
       "572    0.03        0.66    0.07       9.12    0.24  \n",
       "573    0.03        0.83    0.07       1.92    0.54  \n",
       "575    0.05        0.60    0.07       3.16    1.33  \n",
       "582    0.05        0.55    0.09       8.50    2.49  "
      ]
     },
     "execution_count": 52,
     "metadata": {},
     "output_type": "execute_result"
    }
   ],
   "source": [
    "sampl4_table3 = pd.read_csv(datasets_dr + 'SAMPL4_table_3.csv', dtype={'ID':str})\n",
    "sampl4_table3 = sampl4_table3.set_index('ID')\n",
    "sampl4_table3"
   ]
  },
  {
   "cell_type": "code",
   "execution_count": 53,
   "metadata": {},
   "outputs": [],
   "source": [
    "def new_sampl4_row(corr, exp, index):\n",
    "    \n",
    "    # Unpack data.\n",
    "    xu = unumpy.uarray(corr.iloc[:,0], corr.iloc[:,1])\n",
    "    yu = unumpy.uarray(exp.iloc[:,0], exp.iloc[:,1])\n",
    "    \n",
    "    avg_error = str(avg_err(xu, yu)).split('+/-')\n",
    "    rms = str(rmse(xu, yu)).split('+/-')\n",
    "    aue = str(calc_mae(xu, yu)).split('+/-')\n",
    "    tau = kendall_tau(xu, yu)\n",
    "    r = str(calc_pearson_r(xu, yu)).split('+/-')\n",
    "    \n",
    "    new_row = pd.DataFrame(data={'Avg. err.': float(avg_error[0]), 'error': float(avg_error[1]),\n",
    "                                 'RMS': float(rms[0]), 'error1': float(rms[1]),\n",
    "                                 'AUE': float(aue[0]), 'error2': float(aue[1]),\n",
    "                                 'tau': tau, 'error3': 0.0,\n",
    "                                 'R': float(r[0]), 'error4': float(r[1]),\n",
    "                                 'Err. slope': 0.0, 'error5': 0.0,\n",
    "                                 'Max. err.': 0.0, 'error6': 0.0},\n",
    "                           index=[index])\n",
    "    \n",
    "    return new_row"
   ]
  },
  {
   "cell_type": "markdown",
   "metadata": {},
   "source": [
    "Append FEP+ML results to the original SAMPL4 Table 3."
   ]
  },
  {
   "cell_type": "code",
   "execution_count": 54,
   "metadata": {},
   "outputs": [],
   "source": [
    "fep_ml_df = new_sampl4_row(corr=test_corr, exp=test_exp, index='FEP+ML')\n",
    "fep_ml_df.to_csv('fep_ml_df.csv', index=True, index_label='Submission ID')\n",
    "svm_df = new_sampl4_row(corr=null_predicted_y, exp=test_exp, index='ML')\n",
    "dnn_predicted_y = pd.read_csv('../dGhydr_DNN/output_null/null_predicted_dGhydr_DNN.csv', index_col='ID')\n",
    "dnn_df = new_sampl4_row(corr=dnn_predicted_y, exp=test_exp, index='ML')"
   ]
  },
  {
   "cell_type": "code",
   "execution_count": 421,
   "metadata": {},
   "outputs": [],
   "source": [
    "def plot_sampl4_bar_mae(*args):\n",
    "    \n",
    "    # Setup figure.\n",
    "    fig, ax = plt.subplots(1, 1, figsize=figsize)\n",
    "    for axis in ['top','bottom','left','right']: ax.spines[axis].set_linewidth(linewidth)  # Frame line width.\n",
    "    ax.tick_params(axis='both', which='major', labelsize=fontsize)  # Axis number font size.\n",
    "    \n",
    "    # Read in original SAMPL4 Table 3 and retain index column values as strings.\n",
    "    sampl4_df = pd.read_csv(datasets_dr + 'SAMPL4_table_3.csv', dtype={'ID':str})\n",
    "    sampl4_df = sampl4_df.set_index('ID')\n",
    "    \n",
    "    # Determine whether to append new data to existing DataFrame.\n",
    "    figure_num = 1\n",
    "    for arg in args:\n",
    "        sampl4_df = sampl4_df.append(arg, sort=False)\n",
    "        figure_num += 1\n",
    "    \n",
    "    # Locate metric and respective uncertainties columns.\n",
    "    metric_df = sampl4_df.iloc[:, [4,5]]\n",
    "    # Sort DataFrame accroding to metric column.\n",
    "    metric_df = metric_df.sort_values(by=metric_df.columns[0])\n",
    "\n",
    "    # Only plot the two twenty submissions.\n",
    "    metric_df = metric_df.head(20)\n",
    "\n",
    "    # Change the index '004' to 'FEP'\n",
    "    as_list = metric_df.index.tolist()\n",
    "    idx = as_list.index('004')\n",
    "    as_list[idx] = 'FEP'\n",
    "    metric_df.index = as_list\n",
    "    \n",
    "    # Locate FEP, ML and FEP+ML submissions where applicable.\n",
    "    metric_fep = metric_df.loc['FEP',metric_df.columns[0]]\n",
    "    try: metric_ml = metric_df.loc['ML']\n",
    "    except KeyError: pass\n",
    "    try: metric_fep_ml = metric_df.loc['FEP+ML']\n",
    "    except KeyError: pass\n",
    "\n",
    "    # Plot bar graphs of all subissions, FEP, ML and FEP+ML where applicable.\n",
    "    ax.bar(metric_df.index, metric_df.iloc[:,0], yerr=metric_df.iloc[:,1],color=colour3, label='Other submissions')\n",
    "    ax.bar('FEP', metric_fep, color=colour1, label='FEP')\n",
    "    try: ax.bar('ML', metric_ml, color=colour4, label='ML')\n",
    "    except NameError: pass\n",
    "    try: ax.bar('FEP+ML', metric_fep_ml, color=colour2, label='FEP+ML')\n",
    "    except NameError: pass\n",
    "\n",
    "    # Axes formatting.\n",
    "    ax.set_ylabel('Mean absolute error / kcal mol{}'.format('$^{-1}$'), fontsize=fontsize)\n",
    "    ax.set_xlabel('Submission ID', labelpad=8, fontsize=fontsize)\n",
    "    for tick in ax.xaxis.get_major_ticks():\n",
    "        tick.label.set_fontsize(fontsize) \n",
    "        tick.label.set_rotation('vertical')\n",
    "    handles, labels = ax.get_legend_handles_labels()\n",
    "    fig.legend(reversed(handles), reversed(labels), bbox_to_anchor=(1.5, 0.55), ncol=1)\n",
    "\n",
    "#     plt.tight_layout()\n",
    "    plt.savefig(figures_dr + model_type + '_' + str(figure_num) + '_SAMPL4_panel_mae.png', dpi=dpi)"
   ]
  },
  {
   "cell_type": "code",
   "execution_count": 411,
   "metadata": {},
   "outputs": [
    {
     "data": {
      "image/png": "[encoded data removed]",
      "text/plain": [
       "<Figure size 504x504 with 1 Axes>"
      ]
     },
     "metadata": {
      "needs_background": "light"
     },
     "output_type": "display_data"
    }
   ],
   "source": [
    "plot_sampl4_bar_mae()"
   ]
  },
  {
   "cell_type": "code",
   "execution_count": 422,
   "metadata": {},
   "outputs": [
    {
     "data": {
      "image/png": "[encoded data removed]",
      "text/plain": [
       "<Figure size 504x504 with 1 Axes>"
      ]
     },
     "metadata": {
      "needs_background": "light"
     },
     "output_type": "display_data"
    }
   ],
   "source": [
    "plot_sampl4_bar_mae(fep_ml_df, dnn_df)"
   ]
  },
  {
   "cell_type": "code",
   "execution_count": 396,
   "metadata": {},
   "outputs": [],
   "source": [
    "def plot_sampl4_bar_r(*args):\n",
    "    \n",
    "    # Setup figure.\n",
    "    fig, ax = plt.subplots(1, 1, figsize=figsize)\n",
    "    for axis in ['top','bottom','left','right']: ax.spines[axis].set_linewidth(linewidth)  # Frame line width.\n",
    "    ax.tick_params(axis='both', which='major', labelsize=fontsize)  # Axis number font size.\n",
    "    \n",
    "    # Read in original SAMPL4 Table 3 and retain index column values as strings.\n",
    "    sampl4_df = pd.read_csv(datasets_dr + 'SAMPL4_table_3.csv', dtype={'ID':str})\n",
    "    sampl4_df = sampl4_df.set_index('ID')\n",
    "    \n",
    "    # Determine whether to append new data to existing DataFrame.\n",
    "    figure_num = 1\n",
    "    for arg in args:\n",
    "        sampl4_df = sampl4_df.append(arg, sort=False)\n",
    "        figure_num += 1\n",
    "    \n",
    "    # Locate metric and respective uncertainties columns.\n",
    "    metric_df = sampl4_df.iloc[:, [8,9]]\n",
    "    # Sort DataFrame accroding to metric column.\n",
    "    metric_df = metric_df.sort_values(by=metric_df.columns[0])\n",
    "    # Reverse DataFrame for Pearson R.\n",
    "    metric_df = metric_df.iloc[::-1]\n",
    "\n",
    "    # Only plot the two twenty submissions.\n",
    "    metric_df = metric_df.head(20)\n",
    "\n",
    "    # Change the index '004' to 'FEP'\n",
    "    as_list = metric_df.index.tolist()\n",
    "    idx = as_list.index('004')\n",
    "    as_list[idx] = 'FEP'\n",
    "    metric_df.index = as_list\n",
    "    \n",
    "    # Locate FEP, ML and FEP+ML submissions where applicable.\n",
    "    metric_fep = metric_df.loc['FEP',metric_df.columns[0]]\n",
    "    try: metric_ml = metric_df.loc['ML']\n",
    "    except KeyError: pass\n",
    "    try: metric_fep_ml = metric_df.loc['FEP+ML']\n",
    "    except KeyError: pass\n",
    "\n",
    "    # Plot bar graphs of all subissions, FEP, ML and FEP+ML where applicable.\n",
    "    ax.bar(metric_df.index, metric_df.iloc[:,0], yerr=metric_df.iloc[:,1],color=colour3, label='Other submissions')\n",
    "    ax.bar('FEP', metric_fep, color=colour1, label='FEP')\n",
    "    try: ax.bar('ML', metric_ml, color=colour4, label='ML')\n",
    "    except NameError: pass\n",
    "    try: ax.bar('FEP+ML', metric_fep_ml, color=colour2, label='FEP+ML')\n",
    "    except NameError: pass\n",
    "\n",
    "    # Axes formatting.\n",
    "    ax.set_ylabel('Pearson R coefficient'.format('$^{-1}$'), fontsize=fontsize)\n",
    "    ax.set_xlabel('Submission ID', labelpad=8, fontsize=fontsize)\n",
    "    for tick in ax.xaxis.get_major_ticks():\n",
    "        tick.label.set_fontsize(fontsize) \n",
    "        tick.label.set_rotation('vertical')\n",
    "    handles, labels = ax.get_legend_handles_labels()\n",
    "    fig.legend(reversed(handles), reversed(labels), bbox_to_anchor=(1.5, 0.55), ncol=1)\n",
    "\n",
    "#     plt.tight_layout()\n",
    "    plt.savefig(figures_dr + model_type + '_' + str(figure_num) + '_SAMPL4_panel_r.png', dpi=dpi)"
   ]
  },
  {
   "cell_type": "code",
   "execution_count": 397,
   "metadata": {},
   "outputs": [
    {
     "data": {
      "image/png": "[encoded data removed]",
      "text/plain": [
       "<Figure size 504x504 with 1 Axes>"
      ]
     },
     "metadata": {
      "needs_background": "light"
     },
     "output_type": "display_data"
    }
   ],
   "source": [
    "plot_sampl4_bar_r()"
   ]
  },
  {
   "cell_type": "code",
   "execution_count": 398,
   "metadata": {},
   "outputs": [
    {
     "data": {
      "image/png": "[encoded data removed]",
      "text/plain": [
       "<Figure size 504x504 with 1 Axes>"
      ]
     },
     "metadata": {
      "needs_background": "light"
     },
     "output_type": "display_data"
    }
   ],
   "source": [
    "plot_sampl4_bar_r(fep_ml_df, dnn_df)"
   ]
  },
  {
   "cell_type": "code",
   "execution_count": 392,
   "metadata": {
    "scrolled": false
   },
   "outputs": [],
   "source": [
    "def plot_sampl4_bar(*args):\n",
    "    \n",
    "    # Setup figure.\n",
    "    fig, ax = plt.subplots(1, 2, figsize=[12, 6])\n",
    "    for i in [0, 1]:\n",
    "        for axis in ['top','bottom','left','right']: ax[i].spines[axis].set_linewidth(linewidth)  # Frame line width.\n",
    "        ax[i].tick_params(axis='both', which='major', labelsize=fontsize)  # Axis number font size.\n",
    "    \n",
    "    # Read in original SAMPL4 Table 3 and retain index column values as strings.\n",
    "    sampl4_df = pd.read_csv(datasets_dr + 'SAMPL4_table_3.csv', dtype={'ID':str})\n",
    "    sampl4_df = sampl4_df.set_index('ID')\n",
    "    \n",
    "    # Determine whether to append new data to existing DataFrame.\n",
    "    figure_num = 1\n",
    "    for arg in args:\n",
    "        sampl4_df = sampl4_df.append(arg, sort=False)\n",
    "        figure_num += 1\n",
    "    \n",
    "    # Dictionary of metrics to plot as keys and respective column index locations in SAMPL4_df as values.\n",
    "    metric_dict = {'MAE': 4, 'Pearson R': 8}\n",
    "    \n",
    "    # Loop through each metric and plot ax.\n",
    "    for i, metric in zip([0, 1], metric_dict):\n",
    "        # Locate metric and respective uncertainties columns.\n",
    "        metric_df = sampl4_df.iloc[:, [metric_dict[metric], metric_dict[metric] + 1]]\n",
    "        # Sort DataFrame accroding to metric column.\n",
    "        metric_df = metric_df.sort_values(by=metric_df.columns[0])\n",
    "        \n",
    "        # Reverse DataFrame if plotting Pearson R only.\n",
    "        if metric == 'MAE': pass\n",
    "        elif metric == 'Pearson R': metric_df = metric_df.iloc[::-1]\n",
    "\n",
    "        # # Uncomment if avg. err. was added to metric_dict.\n",
    "        # if metric == 'MAE':\n",
    "        #     metric_df = metric_df.iloc[metric_df.abs().argsort()]\n",
    "        # elif metric == 'Pearson R':\n",
    "        #     metric_df = metric_df.iloc[metric_df.abs().argsort()].iloc[::-1]\n",
    "        \n",
    "        # Only plot the two twenty submissions.\n",
    "        metric_df = metric_df.head(20)\n",
    "        \n",
    "        # Locate FEP, ML and FEP+ML submissions where applicable.\n",
    "        metric_fep = metric_df.loc['004',metric_df.columns[0]]\n",
    "        try: metric_ml = metric_df.loc['ML']\n",
    "        except KeyError: pass\n",
    "        try: metric_fep_ml = metric_df.loc['FEP+ML']\n",
    "        except KeyError: pass\n",
    "        \n",
    "        # Plot bar graphs of all subissions, FEP, ML and FEP+ML where applicable.\n",
    "        ax[i].bar(metric_df.index, metric_df.iloc[:,0], yerr=metric_df.iloc[:,1],color=colour3, label='Other submissions')\n",
    "        ax[i].bar('004', metric_fep, color=colour1, label='FEP')\n",
    "        try: ax[i].bar('ML', metric_ml, color=colour4, label='ML')\n",
    "        except NameError: pass\n",
    "        try: ax[i].bar('FEP+ML', metric_fep_ml, color=colour2, label='FEP+ML')\n",
    "        except NameError: pass\n",
    "        \n",
    "        # Axes formatting.\n",
    "        if metric == 'MAE':\n",
    "            ax[i].set_ylabel('Mean absolute error / kcal mol{}'.format('$^{-1}$'), fontsize=fontsize)\n",
    "        else:\n",
    "            ax[i].set_ylabel('Pearson R / kcal mol{}'.format('$^{-1}$'), fontsize=fontsize)\n",
    "        ax[i].set_xlabel('Submission ID', labelpad=8, fontsize=fontsize)\n",
    "        for tick in ax[i].xaxis.get_major_ticks():\n",
    "            tick.label.set_fontsize(fontsize) \n",
    "            tick.label.set_rotation('vertical')\n",
    "        handles, labels = ax[i].get_legend_handles_labels()\n",
    "        ax[i].legend(reversed(handles), reversed(labels), loc='upper left')#, bbox_to_anchor=(0.5, 0.55), ncol=1)\n",
    "\n",
    "    plt.tight_layout()\n",
    "    plt.savefig(figures_dr + model_type + '_' + str(figure_num) + '_SAMPL4_panel.png', dpi=dpi)"
   ]
  },
  {
   "cell_type": "code",
   "execution_count": 393,
   "metadata": {
    "scrolled": false
   },
   "outputs": [
    {
     "data": {
      "image/png": "[encoded data removed]",
      "text/plain": [
       "<Figure size 864x432 with 2 Axes>"
      ]
     },
     "metadata": {
      "needs_background": "light"
     },
     "output_type": "display_data"
    }
   ],
   "source": [
    "plot_sampl4_bar()"
   ]
  },
  {
   "cell_type": "markdown",
   "metadata": {},
   "source": [
    "SVM control"
   ]
  },
  {
   "cell_type": "code",
   "execution_count": 394,
   "metadata": {
    "scrolled": false
   },
   "outputs": [
    {
     "data": {
      "image/png": "[encoded data removed]",
      "text/plain": [
       "<Figure size 864x432 with 2 Axes>"
      ]
     },
     "metadata": {
      "needs_background": "light"
     },
     "output_type": "display_data"
    }
   ],
   "source": [
    "plot_sampl4_bar(fep_ml_df, svm_df)"
   ]
  },
  {
   "cell_type": "markdown",
   "metadata": {},
   "source": [
    "DNN control"
   ]
  },
  {
   "cell_type": "code",
   "execution_count": 395,
   "metadata": {},
   "outputs": [
    {
     "data": {
      "image/png": "[encoded data removed]",
      "text/plain": [
       "<Figure size 864x432 with 2 Axes>"
      ]
     },
     "metadata": {
      "needs_background": "light"
     },
     "output_type": "display_data"
    }
   ],
   "source": [
    "plot_sampl4_bar(fep_ml_df, dnn_df)"
   ]
  }
 ],
 "metadata": {
  "kernelspec": {
   "display_name": "Python 3",
   "language": "python",
   "name": "python3"
  },
  "language_info": {
   "codemirror_mode": {
    "name": "ipython",
    "version": 3
   },
   "file_extension": ".py",
   "mimetype": "text/x-python",
   "name": "python",
   "nbconvert_exporter": "python",
   "pygments_lexer": "ipython3",
   "version": "3.6.6"
  },
  "toc": {
   "base_numbering": 1,
   "nav_menu": {},
   "number_sections": true,
   "sideBar": true,
   "skip_h1_title": true,
   "title_cell": "Table of Contents",
   "title_sidebar": "Contents",
   "toc_cell": true,
   "toc_position": {
    "height": "calc(100% - 180px)",
    "left": "10px",
    "top": "150px",
    "width": "256px"
   },
   "toc_section_display": true,
   "toc_window_display": true
  }
 },
 "nbformat": 4,
 "nbformat_minor": 2
}
