{
 "cells": [
  {
   "cell_type": "code",
   "execution_count": 1,
   "metadata": {},
   "outputs": [],
   "source": [
    "import matplotlib.pyplot as plt \n",
    "import seaborn as sns \n",
    "import numpy as np \n",
    "import pandas as pd \n",
    "pd.set_option('display.max_rows', 10)\n",
    "import scipy\n",
    "from sklearn import metrics\n",
    "import time\n",
    "from scipy.stats import gaussian_kde"
   ]
  },
  {
   "cell_type": "code",
   "execution_count": 33,
   "metadata": {},
   "outputs": [],
   "source": [
    "# make arrays of the data:\n",
    "original_exp = [-11, -10, -4.5, -8, -3, -5, -6]\n",
    "improved_prediction = [-10, -10.2, -3.8, -7.1, -2.5, -5.5, -6]\n",
    "worse = [-9, -11, -7, -6, -1, -2, -9]\n",
    "\n",
    "\n",
    "\n",
    "\n",
    "plt.rcParams.update({'font.size': 8})"
   ]
  },
  {
   "cell_type": "code",
   "execution_count": 78,
   "metadata": {
    "scrolled": false
   },
   "outputs": [
    {
     "data": {
      "image/png": "[encoded data removed]",
      "text/plain": [
       "<Figure size 234x126 with 2 Axes>"
      ]
     },
     "metadata": {
      "needs_background": "light"
     },
     "output_type": "display_data"
    }
   ],
   "source": [
    "# make base plot with annotations:\n",
    "fig, axes = plt.subplots(1, 2, figsize=(3.25, 1.75))\n",
    "\n",
    "# plot the noisy prediction:\n",
    "axes[0].scatter(worse, original_exp)\n",
    "\n",
    "\n",
    "# generate a better prediction and plot:\n",
    "improved_prediction = []\n",
    "for pred, exp in zip(worse, original_exp):\n",
    "    average = (pred + exp + exp)/3\n",
    "    improved_prediction.append(average)\n",
    "axes[1].scatter(improved_prediction, original_exp)\n",
    "    \n",
    "    \n",
    "for ax in axes:\n",
    "    # set limits:\n",
    "    ax.set_ylim(-12, 0)\n",
    "    ax.set_xlim(-12, 0)\n",
    "    \n",
    "    # make diagonals:\n",
    "    ax.fill_between(\n",
    "                    x=[-25, 0], \n",
    "                    y2=[-24.5,0.5],\n",
    "                    y1=[-25.5,-0.5],\n",
    "                    lw=0, \n",
    "                    zorder=-10,\n",
    "                    alpha=0.5,\n",
    "                    color=\"darkorange\")\n",
    "    # upper bound:\n",
    "    ax.fill_between(\n",
    "                    x=[-25, 0], \n",
    "                    y2=[-24,1],\n",
    "                    y1=[-24.5,0.5],\n",
    "                    lw=0, \n",
    "                    zorder=-10,\n",
    "                    color=\"darkorange\", \n",
    "                    alpha=0.2)\n",
    "    # lower bound:\n",
    "    ax.fill_between(\n",
    "                    x=[-25, 0], \n",
    "                    y2=[-25.5,-0.5],\n",
    "                    y1=[-26,-1],\n",
    "                    lw=0, \n",
    "                    zorder=-10,\n",
    "                    color=\"darkorange\", \n",
    "                    alpha=0.2)\n",
    "\n",
    "    # remove axis info:   \n",
    "    ax.axes.get_yaxis().set_visible(False)\n",
    "    ax.axes.get_xaxis().set_visible(False)\n",
    "    \n",
    "# add textual information:\n",
    "plt.tight_layout(w_pad=4.8)    \n",
    "axes[0].set_title(\"Standalone FEP\")\n",
    "axes[1].set_title(\"FEP/ML hybrid\")\n",
    "\n",
    "axes[0].text(s=\"Experimental FE / \\n         kcal mol$^{-1}$\", x=-16, y=-11, rotation=90)\n",
    "axes[0].text(s=r\"Predicted FE / kcal mol$^{-1}$\", x=3, y=-14, ha=\"center\")\n",
    "\n",
    "\n",
    "\n",
    "axes[0].arrow(x=0.5, y=-6, dx=4, dy=0, clip_on=False, head_width=0.5, color=\"black\", overhang=0.8)\n",
    "axes[0].text(s=\"Plug in\\ncorrection\\nterms\", x=2.85, y=-2, style='oblique', ha='center',\n",
    "         va='top', wrap=True)\n",
    "\n",
    "# add correction term arrows:\n",
    "\n",
    "for pred, corrected_pred, exp in zip(worse, improved_prediction, original_exp):\n",
    "    predicted_offset = corrected_pred - pred\n",
    "\n",
    "    axes[0].arrow(x=pred, y=exp, dx=predicted_offset, dy=0, overhang=0.8, head_width=0.3, alpha=0.3)\n",
    "    axes[0].text(s=\"ML-predicted\\n$\\Delta$G$_{offset}$ values\", x=-7, y=-0.5, style='oblique', ha='center', \n",
    "                 va='top')\n",
    "\n",
    "\n",
    "\n",
    "\n",
    "        \n",
    "        \n",
    "plt.savefig(\"TOC_fig.png\", dpi=300, bbox_inches=\"tight\")\n",
    "plt.show()"
   ]
  },
  {
   "cell_type": "code",
   "execution_count": null,
   "metadata": {},
   "outputs": [],
   "source": []
  }
 ],
 "metadata": {
  "kernelspec": {
   "display_name": "Python 3",
   "language": "python",
   "name": "python3"
  },
  "language_info": {
   "codemirror_mode": {
    "name": "ipython",
    "version": 3
   },
   "file_extension": ".py",
   "mimetype": "text/x-python",
   "name": "python",
   "nbconvert_exporter": "python",
   "pygments_lexer": "ipython3",
   "version": "3.7.4"
  }
 },
 "nbformat": 4,
 "nbformat_minor": 2
}
